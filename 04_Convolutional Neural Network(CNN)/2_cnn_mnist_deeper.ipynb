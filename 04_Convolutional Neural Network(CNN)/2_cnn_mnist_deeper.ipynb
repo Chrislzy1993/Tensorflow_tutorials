{
 "cells": [
  {
   "cell_type": "markdown",
   "metadata": {},
   "source": [
    "# moden convolutional neural network\n",
    "dropout + batch normalization"
   ]
  },
  {
   "cell_type": "code",
   "execution_count": 1,
   "metadata": {},
   "outputs": [
    {
     "name": "stdout",
     "output_type": "stream",
     "text": [
      "WARNING:tensorflow:From <ipython-input-1-ef0c57ba93ed>:6: read_data_sets (from tensorflow.contrib.learn.python.learn.datasets.mnist) is deprecated and will be removed in a future version.\n",
      "Instructions for updating:\n",
      "Please use alternatives such as official/mnist/dataset.py from tensorflow/models.\n",
      "WARNING:tensorflow:From /home/liuzhiyang/.conda/envs/jupyter/lib/python3.6/site-packages/tensorflow/contrib/learn/python/learn/datasets/mnist.py:260: maybe_download (from tensorflow.contrib.learn.python.learn.datasets.base) is deprecated and will be removed in a future version.\n",
      "Instructions for updating:\n",
      "Please write your own downloading logic.\n",
      "WARNING:tensorflow:From /home/liuzhiyang/.conda/envs/jupyter/lib/python3.6/site-packages/tensorflow/contrib/learn/python/learn/datasets/mnist.py:262: extract_images (from tensorflow.contrib.learn.python.learn.datasets.mnist) is deprecated and will be removed in a future version.\n",
      "Instructions for updating:\n",
      "Please use tf.data to implement this functionality.\n",
      "Extracting ../MNIST_data/train-images-idx3-ubyte.gz\n",
      "WARNING:tensorflow:From /home/liuzhiyang/.conda/envs/jupyter/lib/python3.6/site-packages/tensorflow/contrib/learn/python/learn/datasets/mnist.py:267: extract_labels (from tensorflow.contrib.learn.python.learn.datasets.mnist) is deprecated and will be removed in a future version.\n",
      "Instructions for updating:\n",
      "Please use tf.data to implement this functionality.\n",
      "Extracting ../MNIST_data/train-labels-idx1-ubyte.gz\n",
      "WARNING:tensorflow:From /home/liuzhiyang/.conda/envs/jupyter/lib/python3.6/site-packages/tensorflow/contrib/learn/python/learn/datasets/mnist.py:110: dense_to_one_hot (from tensorflow.contrib.learn.python.learn.datasets.mnist) is deprecated and will be removed in a future version.\n",
      "Instructions for updating:\n",
      "Please use tf.one_hot on tensors.\n",
      "Extracting ../MNIST_data/t10k-images-idx3-ubyte.gz\n",
      "Extracting ../MNIST_data/t10k-labels-idx1-ubyte.gz\n",
      "WARNING:tensorflow:From /home/liuzhiyang/.conda/envs/jupyter/lib/python3.6/site-packages/tensorflow/contrib/learn/python/learn/datasets/mnist.py:290: DataSet.__init__ (from tensorflow.contrib.learn.python.learn.datasets.mnist) is deprecated and will be removed in a future version.\n",
      "Instructions for updating:\n",
      "Please use alternatives such as official/mnist/dataset.py from tensorflow/models.\n",
      "PACKAGES LOADED\n"
     ]
    }
   ],
   "source": [
    "# load package and mnist\n",
    "import numpy as np\n",
    "import tensorflow as tf\n",
    "import matplotlib.pyplot as plt\n",
    "from tensorflow.examples.tutorials.mnist import input_data\n",
    "mnist = input_data.read_data_sets('../MNIST_data/', one_hot=True)\n",
    "%matplotlib inline  \n",
    "print (\"PACKAGES LOADED\")"
   ]
  },
  {
   "cell_type": "code",
   "execution_count": 2,
   "metadata": {
    "collapsed": true
   },
   "outputs": [],
   "source": [
    "# select device to be used\n",
    "device_type = \"/gpu:1\""
   ]
  },
  {
   "cell_type": "markdown",
   "metadata": {
    "collapsed": true
   },
   "source": [
    "## define cnn"
   ]
  },
  {
   "cell_type": "code",
   "execution_count": 3,
   "metadata": {},
   "outputs": [
    {
     "name": "stdout",
     "output_type": "stream",
     "text": [
      "WARNING:tensorflow:From /home/liuzhiyang/.conda/envs/jupyter/lib/python3.6/site-packages/tensorflow/python/framework/op_def_library.py:263: colocate_with (from tensorflow.python.framework.ops) is deprecated and will be removed in a future version.\n",
      "Instructions for updating:\n",
      "Colocations handled automatically by placer.\n",
      "cnn ready\n"
     ]
    }
   ],
   "source": [
    "n_input = 784\n",
    "n_output = 10\n",
    "\n",
    "with tf.device(device_type):\n",
    "    weights  = {\n",
    "        'wc1': tf.Variable(tf.truncated_normal([3, 3, 1, 64], stddev=0.1)),\n",
    "        'wc2': tf.Variable(tf.truncated_normal([3, 3, 64, 128], stddev=0.1)),\n",
    "        'wd1': tf.Variable(tf.truncated_normal([7*7*128, 1024], stddev=0.1)),\n",
    "        'wd2': tf.Variable(tf.truncated_normal([1024, n_output], stddev=0.1))\n",
    "    }\n",
    "    biases   = {\n",
    "        'bc1': tf.Variable(tf.random_normal([64], stddev=0.1)),\n",
    "        'bc2': tf.Variable(tf.random_normal([128], stddev=0.1)),\n",
    "        'bd1': tf.Variable(tf.random_normal([1024], stddev=0.1)),\n",
    "        'bd2': tf.Variable(tf.random_normal([n_output], stddev=0.1))\n",
    "    }\n",
    "    \n",
    "    def conv_basic(_input, _w, _b, _keep_prob):\n",
    "        # input \n",
    "        _input_r = tf.reshape(_input, shape=[-1, 28, 28, 1])\n",
    "        \n",
    "        # conv layer 1\n",
    "        _conv1 = tf.nn.conv2d(_input_r, _w['wc1'], strides=[1, 1, 1, 1], padding='SAME')\n",
    "        _mean, _var = tf.nn.moments(_conv1, [0, 1, 2])\n",
    "        _conv1 = tf.nn.batch_normalization(_conv1, _mean, _var, 0, 1, 0.0001)\n",
    "        _conv1 = tf.nn.relu(tf.nn.bias_add(_conv1, _b['bc1']))\n",
    "        _pool1 =tf.nn.max_pool(_conv1, ksize=[1, 2, 2, 1], strides=[1, 2, 2, 1], padding='SAME')\n",
    "        _dropout1 = tf.nn.dropout(_pool1, _keep_prob)\n",
    "        \n",
    "        # conv layer2\n",
    "        _conv2 = tf.nn.conv2d(_dropout1, _w['wc2'], strides=[1, 1, 1, 1], padding='SAME')\n",
    "        _mean, _var = tf.nn.moments(_conv2, [0, 1, 2])\n",
    "        _conv2 = tf.nn.batch_normalization(_conv2, _mean, _var, 0, 1, 0.0001)\n",
    "        _conv2 = tf.nn.relu(tf.nn.bias_add(_conv2, _b['bc2']))\n",
    "        _pool2 = tf.nn.max_pool(_conv2, ksize=[1, 2, 2, 1], strides=[1, 2, 2, 1], padding='SAME')\n",
    "        _dropout2 = tf.nn.dropout(_pool2, _keep_prob)\n",
    "        \n",
    "        # vectorize\n",
    "        _dense = tf.reshape(_dropout2, [-1, _w['wd1'].get_shape().as_list()[0]])\n",
    "        \n",
    "        # fully connected layer1\n",
    "        _fc1 = tf.nn.relu(tf.add(tf.matmul(_dense, _w['wd1']), _b['bd1']))\n",
    "        _dropout3 = tf.nn.dropout(_fc1, _keep_prob)\n",
    "        \n",
    "        # fully connected layer2\n",
    "        _out = tf.add(tf.matmul(_dropout3, _w['wd2']), _b['bd2'])\n",
    "        \n",
    "        # return \n",
    "        out = { 'input_r': _input_r, 'conv1': _conv1, 'pool1': _pool1, 'dropout1': _dropout1, \n",
    "               'con2': _conv2, 'pool2': _pool2, 'dropout2': _dropout2, 'dense': _dense, \n",
    "               'fc1': _fc1, 'dropout3': _dropout3, 'out': _out            \n",
    "        }\n",
    "        return out\n",
    "print(\"cnn ready\")    "
   ]
  },
  {
   "cell_type": "markdown",
   "metadata": {
    "collapsed": true
   },
   "source": [
    "## define computational graph"
   ]
  },
  {
   "cell_type": "code",
   "execution_count": 4,
   "metadata": {},
   "outputs": [
    {
     "name": "stdout",
     "output_type": "stream",
     "text": [
      "WARNING:tensorflow:From <ipython-input-3-5f526229da1c>:28: calling dropout (from tensorflow.python.ops.nn_ops) with keep_prob is deprecated and will be removed in a future version.\n",
      "Instructions for updating:\n",
      "Please use `rate` instead of `keep_prob`. Rate should be set to `rate = 1 - keep_prob`.\n",
      "WARNING:tensorflow:From <ipython-input-4-4228443a861c>:9: softmax_cross_entropy_with_logits (from tensorflow.python.ops.nn_ops) is deprecated and will be removed in a future version.\n",
      "Instructions for updating:\n",
      "\n",
      "Future major versions of TensorFlow will allow gradients to flow\n",
      "into the labels input on backprop by default.\n",
      "\n",
      "See `tf.nn.softmax_cross_entropy_with_logits_v2`.\n",
      "\n",
      "WARNING:tensorflow:From /home/liuzhiyang/.conda/envs/jupyter/lib/python3.6/site-packages/tensorflow/python/ops/math_ops.py:3066: to_int32 (from tensorflow.python.ops.math_ops) is deprecated and will be removed in a future version.\n",
      "Instructions for updating:\n",
      "Use tf.cast instead.\n",
      "graph ready\n"
     ]
    }
   ],
   "source": [
    "# placeholder\n",
    "x = tf.placeholder(\"float\", [None, n_input])\n",
    "y = tf.placeholder(\"float\", [None, n_output])\n",
    "keep_prob = tf.placeholder(\"float\")\n",
    "\n",
    "# function\n",
    "with tf.device(device_type):\n",
    "    _pred = conv_basic(x, weights, biases, keep_prob)['out']\n",
    "    loss = tf.reduce_mean(tf.nn.softmax_cross_entropy_with_logits(logits=_pred, labels=y))\n",
    "    optimizer = tf.train.AdamOptimizer(learning_rate=0.001).minimize(loss)\n",
    "    _corr = tf.equal(tf.argmax(_pred, 1), tf.argmax(y, 1))\n",
    "    accuracy = tf.reduce_mean(tf.cast(_corr, \"float\"))\n",
    "    init = tf.global_variables_initializer()\n",
    "    \n",
    "# saver\n",
    "save_step = 1 \n",
    "saver = tf.train.Saver(max_to_keep=3)\n",
    "print(\"graph ready\")"
   ]
  },
  {
   "cell_type": "markdown",
   "metadata": {
    "collapsed": true
   },
   "source": [
    "## optimize"
   ]
  },
  {
   "cell_type": "code",
   "execution_count": 5,
   "metadata": {
    "collapsed": true
   },
   "outputs": [],
   "source": [
    "do_train = 1\n",
    "sess = tf.Session(config=tf.ConfigProto(allow_soft_placement=True))\n",
    "sess.run(init)"
   ]
  },
  {
   "cell_type": "code",
   "execution_count": 6,
   "metadata": {},
   "outputs": [
    {
     "name": "stdout",
     "output_type": "stream",
     "text": [
      "Epoch: 001/015  loss: 0.62442  train accuracy: 0.970  test accuracy: 0.962\n",
      "Epoch: 002/015  loss: 0.09359  train accuracy: 0.990  test accuracy: 0.979\n",
      "Epoch: 003/015  loss: 0.06460  train accuracy: 0.980  test accuracy: 0.984\n",
      "Epoch: 004/015  loss: 0.05076  train accuracy: 0.990  test accuracy: 0.984\n",
      "Epoch: 005/015  loss: 0.04187  train accuracy: 1.000  test accuracy: 0.987\n",
      "Epoch: 006/015  loss: 0.03666  train accuracy: 0.970  test accuracy: 0.988\n",
      "Epoch: 007/015  loss: 0.03156  train accuracy: 0.960  test accuracy: 0.990\n",
      "Epoch: 008/015  loss: 0.02672  train accuracy: 0.990  test accuracy: 0.989\n",
      "Epoch: 009/015  loss: 0.02371  train accuracy: 1.000  test accuracy: 0.991\n",
      "Epoch: 010/015  loss: 0.02145  train accuracy: 1.000  test accuracy: 0.991\n",
      "Epoch: 011/015  loss: 0.01909  train accuracy: 1.000  test accuracy: 0.992\n",
      "Epoch: 012/015  loss: 0.01675  train accuracy: 1.000  test accuracy: 0.991\n",
      "Epoch: 013/015  loss: 0.01513  train accuracy: 0.990  test accuracy: 0.992\n",
      "Epoch: 014/015  loss: 0.01419  train accuracy: 0.990  test accuracy: 0.991\n",
      "Epoch: 015/015  loss: 0.01211  train accuracy: 1.000  test accuracy: 0.993\n",
      "optimization finished\n"
     ]
    }
   ],
   "source": [
    "training_epochs = 15\n",
    "batch_size      = 100\n",
    "display_step    = 1\n",
    "\n",
    "if do_train == 1:\n",
    "    for epoch in range(training_epochs):\n",
    "        avg_loss = 0\n",
    "        n_batch = int(mnist.train.num_examples / batch_size)\n",
    "        for batch in range(n_batch):\n",
    "            batch_xs, batch_ys = mnist.train.next_batch(batch_size)\n",
    "            train_feed = {x: batch_xs, y: batch_ys, keep_prob: 0.7}\n",
    "            sess.run(optimizer, feed_dict=train_feed) \n",
    "            feed = {x: batch_xs, y: batch_ys, keep_prob: 1.}\n",
    "            avg_loss += sess.run(loss, feed_dict=feed)\n",
    "        avg_loss = avg_loss / n_batch\n",
    "        \n",
    "        # display\n",
    "        if (epoch + 1) % display_step == 0:\n",
    "            train_acc = sess.run(accuracy, feed_dict=feed)\n",
    "            test_feed= {x: mnist.test.images, y: mnist.test.labels, keep_prob: 1.}\n",
    "            test_acc = sess.run(accuracy, feed_dict=test_feed)\n",
    "            print(\"Epoch: %03d/%03d  \" \"loss: %.5f  \" \"train accuracy: %.3f  \" \"test accuracy: %.3f\"\n",
    "             % (epoch + 1, training_epochs, avg_loss, train_acc, test_acc))\n",
    "    print(\"optimization finished\")"
   ]
  },
  {
   "cell_type": "markdown",
   "metadata": {
    "collapsed": true
   },
   "source": [
    "## restore"
   ]
  },
  {
   "cell_type": "code",
   "execution_count": 7,
   "metadata": {
    "collapsed": true
   },
   "outputs": [],
   "source": [
    "if do_train == 0:\n",
    "    epoch = training_epochs-1\n",
    "    saver.restore(sess, \"nets/cnn_mnist_basic.ckpt-\" + str(epoch))"
   ]
  },
  {
   "cell_type": "markdown",
   "metadata": {
    "collapsed": true
   },
   "source": [
    "## compute test accuracy"
   ]
  },
  {
   "cell_type": "code",
   "execution_count": 8,
   "metadata": {},
   "outputs": [
    {
     "name": "stdout",
     "output_type": "stream",
     "text": [
      " test accuracy: 0.993\n"
     ]
    }
   ],
   "source": [
    "test_acc = sess.run(accuracy, feed_dict={x: mnist.test.images, y: mnist.test.labels, keep_prob: 1.})\n",
    "print (\" test accuracy: %.3f\" % (test_acc))"
   ]
  },
  {
   "cell_type": "code",
   "execution_count": 9,
   "metadata": {
    "collapsed": true
   },
   "outputs": [],
   "source": [
    "# close\n",
    "sess.close()"
   ]
  }
 ],
 "metadata": {
  "kernelspec": {
   "display_name": "Python [conda env:jupyter]",
   "language": "python",
   "name": "conda-env-jupyter-py"
  },
  "language_info": {
   "codemirror_mode": {
    "name": "ipython",
    "version": 3
   },
   "file_extension": ".py",
   "mimetype": "text/x-python",
   "name": "python",
   "nbconvert_exporter": "python",
   "pygments_lexer": "ipython3",
   "version": "3.6.2"
  },
  "toc": {
   "base_numbering": 1,
   "nav_menu": {},
   "number_sections": true,
   "sideBar": true,
   "skip_h1_title": false,
   "title_cell": "Table of Contents",
   "title_sidebar": "Contents",
   "toc_cell": false,
   "toc_position": {},
   "toc_section_display": true,
   "toc_window_display": true
  }
 },
 "nbformat": 4,
 "nbformat_minor": 2
}

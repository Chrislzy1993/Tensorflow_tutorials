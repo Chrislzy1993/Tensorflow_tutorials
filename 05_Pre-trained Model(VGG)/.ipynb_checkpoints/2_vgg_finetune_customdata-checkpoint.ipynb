{
 "cells": [
  {
   "cell_type": "markdown",
   "metadata": {},
   "source": [
    "# cnn funetuning with pre-training vgg net"
   ]
  },
  {
   "cell_type": "code",
   "execution_count": 1,
   "metadata": {},
   "outputs": [
    {
     "name": "stdout",
     "output_type": "stream",
     "text": [
      "Packages loaded.\n"
     ]
    }
   ],
   "source": [
    "import os\n",
    "import numpy as np\n",
    "import tensorflow as tf\n",
    "import matplotlib.pyplot as plt\n",
    "import scipy.misc \n",
    "import scipy.io\n",
    "from tensorflow.examples.tutorials.mnist import input_data\n",
    "%matplotlib inline  \n",
    "print (\"Packages loaded.\")"
   ]
  },
  {
   "cell_type": "markdown",
   "metadata": {},
   "source": [
    "## load data"
   ]
  },
  {
   "cell_type": "code",
   "execution_count": 2,
   "metadata": {},
   "outputs": [
    {
     "name": "stdout",
     "output_type": "stream",
     "text": [
      "['trainlabel', 'trainimg', 'testimg', 'testlabel']\n"
     ]
    }
   ],
   "source": [
    "cwd = os.getcwd()\n",
    "last_dir = os.path.abspath(os.path.join(cwd, os.path.pardir))\n",
    "load_path = last_dir + \"/data/data4vgg.npz\"\n",
    "data = np.load(load_path)\n",
    "\n",
    "vgg_path = last_dir + \"/model/imagenet-vgg-verydeep-19.mat\"\n",
    "\n",
    "# show file\n",
    "print(data.files)"
   ]
  },
  {
   "cell_type": "markdown",
   "metadata": {},
   "source": [
    "## parse data"
   ]
  },
  {
   "cell_type": "code",
   "execution_count": 3,
   "metadata": {},
   "outputs": [
    {
     "name": "stdout",
     "output_type": "stream",
     "text": [
      "shape of 'train image' is (69, 37632)\n",
      "shape of 'test image' is (18, 37632)\n",
      "num of class is 2\n"
     ]
    }
   ],
   "source": [
    "train_img = data['trainimg']\n",
    "train_label = data['trainlabel']\n",
    "test_img = data['testimg']\n",
    "test_label = data['testlabel']\n",
    "\n",
    "n_train     = train_img.shape[0]\n",
    "n_class     = train_label.shape[1]\n",
    "dim        = train_img.shape[1]\n",
    "n_test      = test_img.shape[0]\n",
    "\n",
    "print(\"shape of 'train image' is %s\" %(train_img.shape, ))  #shape[0]数量， shape[1]维度\n",
    "print(\"shape of 'test image' is %s\" %(test_img.shape, ))\n",
    "print(\"num of class is %d\" %(train_label.shape[1]))"
   ]
  },
  {
   "cell_type": "markdown",
   "metadata": {},
   "source": [
    "## generate tensors for training and testing"
   ]
  },
  {
   "cell_type": "code",
   "execution_count": 7,
   "metadata": {},
   "outputs": [
    {
     "name": "stdout",
     "output_type": "stream",
     "text": [
      "shape of trainimg_tensor is (69, 112, 112, 3)\n",
      "shape of testimg_tensor is (18, 112, 112, 3)\n"
     ]
    }
   ],
   "source": [
    "train_img_tensor = np.ndarray((n_train, 112, 112, 3))\n",
    "for i in range(n_train):\n",
    "    curr_img = train_img[i, :]\n",
    "    curr_img = np.reshape(curr_img, [112, 112, 3])\n",
    "    train_img_tensor[i, :, :, :] = curr_img\n",
    "print(\"shape of trainimg_tensor is %s\" %(train_img_tensor.shape, ))\n",
    "\n",
    "test_img_tensor = np.ndarray((n_test, 112, 112, 3))\n",
    "for i in range(n_test):\n",
    "    curr_img = test_img[i, :]\n",
    "    curr_img = np.reshape(curr_img, [112, 112, 3])\n",
    "    test_img_tensor[i, :, :, :] = curr_img\n",
    "print(\"shape of testimg_tensor is %s\" %(test_img_tensor.shape, ))"
   ]
  },
  {
   "cell_type": "markdown",
   "metadata": {},
   "source": [
    "## define a function for vgg network"
   ]
  },
  {
   "cell_type": "code",
   "execution_count": 8,
   "metadata": {
    "collapsed": true
   },
   "outputs": [],
   "source": [
    "def net(data_path, input_image):\n",
    "    # layers\n",
    "    layers = (\n",
    "        'conv1_1', 'relu1_1', 'conv1_2', 'relu1_2', 'pool1',\n",
    "        'conv2_1', 'relu2_1', 'conv2_2', 'relu2_2', 'pool2',\n",
    "        'conv3_1', 'relu3_1', 'conv3_2', 'relu3_2', 'conv3_3',\n",
    "        'relu3_3', 'conv3_4', 'relu3_4', 'pool3',\n",
    "        'conv4_1', 'relu4_1', 'conv4_2', 'relu4_2', 'conv4_3',\n",
    "        'relu4_3', 'conv4_4', 'relu4_4', 'pool4',\n",
    "        'conv5_1', 'relu5_1', 'conv5_2', 'relu5_2', 'conv5_3',\n",
    "        'relu5_3', 'conv5_4', 'relu5_4'\n",
    "    )\n",
    "    \n",
    "    # data\n",
    "    data = scipy.io.loadmat(data_path)\n",
    "    mean = data['normalization'][0][0][0]\n",
    "    mean_pixel = np.mean(mean, axis=(0, 1))\n",
    "    weights = data['layers'][0]\n",
    "    \n",
    "    net = {}\n",
    "    current = input_image\n",
    "    for i, name in enumerate(layers):\n",
    "        kind = name[:4]\n",
    "        if kind == 'conv':\n",
    "            kernels, bias = weights[i][0][0][0][0]\n",
    "            # matconvnet: weights are [width, height, in_channels, out_channels]\n",
    "            # tensorflow: weights are [height, width, in_channels, out_channels]\n",
    "            kernels = np.transpose(kernels, (1, 0, 2, 3))\n",
    "            bias = bias.reshape(-1)\n",
    "            current = _conv_layer(current, kernels, bias)\n",
    "        elif kind == 'relu':\n",
    "            current = tf.nn.relu(current)\n",
    "        elif kind == 'pool':\n",
    "            current = _pool_layer(current)\n",
    "        net[name] = current\n",
    "\n",
    "    assert len(net) == len(layers)\n",
    "    return net, mean_pixel\n",
    "\n",
    "def _conv_layer(input, weights, bias):\n",
    "    conv = tf.nn.conv2d(input, tf.constant(weights), strides=(1, 1, 1, 1),\n",
    "            padding='SAME')\n",
    "    return tf.nn.bias_add(conv, bias)\n",
    "def _pool_layer(input):\n",
    "    return tf.nn.max_pool(input, ksize=(1, 2, 2, 1), strides=(1, 2, 2, 1),\n",
    "            padding='SAME')\n",
    "def preprocess(image, mean_pixel):\n",
    "    return image - mean_pixel\n",
    "def unprocess(image, mean_pixel):\n",
    "    return image + mean_pixel"
   ]
  },
  {
   "cell_type": "markdown",
   "metadata": {},
   "source": [
    "## extract features from the vgg network"
   ]
  },
  {
   "cell_type": "code",
   "execution_count": 10,
   "metadata": {},
   "outputs": [
    {
     "name": "stdout",
     "output_type": "stream",
     "text": [
      "type of 'train_features' is <class 'numpy.ndarray'> \n",
      "shape of of  'train_featrues' is (69, 7, 7, 512) \n",
      "type of 'test_features' is <class 'numpy.ndarray'> \n",
      "shape of of  'test_featrues' is (18, 7, 7, 512) \n",
      "preprocess done\n"
     ]
    }
   ],
   "source": [
    "with tf.Graph().as_default(), tf.Session() as sess:\n",
    "    with tf.device(\"cpu:0\"):\n",
    "        img_placeholder = tf.placeholder(\"float\", shape=(None, 112, 112, 3))\n",
    "        net_val, mean_pixel = net(vgg_path, img_placeholder)\n",
    "        train_features = net_val['relu5_4'].eval(feed_dict={img_placeholder: train_img_tensor})\n",
    "        test_features = net_val['relu5_4'].eval(feed_dict={img_placeholder: test_img_tensor})\n",
    "print(\"type of 'train_features' is %s \" %(type(train_features)))\n",
    "print(\"shape of of  'train_featrues' is %s \" %(train_features.shape, ))\n",
    "print(\"type of 'test_features' is %s \" %(type(test_features)))\n",
    "print(\"shape of of  'test_featrues' is %s \" %(test_features.shape, ))\n",
    "print(\"preprocess done\")"
   ]
  },
  {
   "cell_type": "markdown",
   "metadata": {},
   "source": [
    "## vectorize cnn features"
   ]
  },
  {
   "cell_type": "code",
   "execution_count": 12,
   "metadata": {},
   "outputs": [
    {
     "name": "stdout",
     "output_type": "stream",
     "text": [
      "shape of train_vectorized is (69, 25088)\n",
      "shape of test_vectorized is (18, 25088)\n"
     ]
    }
   ],
   "source": [
    "train_vectorized = np.ndarray((n_train, 7 * 7 * 512))\n",
    "test_vectorized = np.ndarray((n_test, 7 * 7 * 512))\n",
    "for i in range(n_train):\n",
    "    curr_feat = train_features[i, :, :, :]\n",
    "    curr_feat_vec = np.reshape(curr_feat, (1, -1))\n",
    "    train_vectorized[i, :] = curr_feat_vec\n",
    "    \n",
    "for i in range(n_test):\n",
    "    curr_feat = test_features[i, :, :, :]\n",
    "    curr_feat_vec = np.reshape(curr_feat, (1, -1))\n",
    "    test_vectorized[i, :] = curr_feat_vec\n",
    "    \n",
    "print(\"shape of train_vectorized is %s\" %(train_vectorized.shape, ))\n",
    "print(\"shape of test_vectorized is %s\" %(test_vectorized.shape, ))"
   ]
  },
  {
   "cell_type": "markdown",
   "metadata": {},
   "source": [
    "## define networks and functions(add 2layer MLP)"
   ]
  },
  {
   "cell_type": "code",
   "execution_count": 14,
   "metadata": {},
   "outputs": [
    {
     "name": "stdout",
     "output_type": "stream",
     "text": [
      "WARNING:tensorflow:From <ipython-input-14-d7e5b07662c3>:26: calling dropout (from tensorflow.python.ops.nn_ops) with keep_prob is deprecated and will be removed in a future version.\n",
      "Instructions for updating:\n",
      "Please use `rate` instead of `keep_prob`. Rate should be set to `rate = 1 - keep_prob`.\n",
      "WARNING:tensorflow:From <ipython-input-14-d7e5b07662c3>:44: softmax_cross_entropy_with_logits (from tensorflow.python.ops.nn_ops) is deprecated and will be removed in a future version.\n",
      "Instructions for updating:\n",
      "\n",
      "Future major versions of TensorFlow will allow gradients to flow\n",
      "into the labels input on backprop by default.\n",
      "\n",
      "See `tf.nn.softmax_cross_entropy_with_logits_v2`.\n",
      "\n",
      "network ready to go\n"
     ]
    }
   ],
   "source": [
    "# parameters\n",
    "learning_rate = 0.0001\n",
    "training_epochs = 100\n",
    "batch_size = 100\n",
    "display_step = 10\n",
    "\n",
    "# network\n",
    "with tf.device(\"/cpu:0\"):\n",
    "    n_input = dim\n",
    "    n_output = n_class\n",
    "    weights = {\n",
    "        'wd1': tf.Variable(tf.random_normal([7*7*512, 1024], stddev=0.1)),\n",
    "        'wd2': tf.Variable(tf.random_normal([1024, n_output], stddev=0.1))\n",
    "    }\n",
    "    biases = {\n",
    "        'bd1': tf.Variable(tf.random_normal([1024], stddev=0.1)),\n",
    "        'bd2': tf.Variable(tf.random_normal([n_output], stddev=0.1))\n",
    "    }\n",
    "    def conv_basic(_input, _w, _b, _keep_prob):\n",
    "        # input\n",
    "        _input_r = _input \n",
    "        # vectorize\n",
    "        _dense1 = tf.reshape(_input_r, [-1, _w['wd1'].get_shape().as_list()[0]])\n",
    "        # fc1\n",
    "        _fc1 = tf.nn.relu(tf.add(tf.matmul(_dense1, _w['wd1']), _b['bd1']))\n",
    "        _dropout = tf.nn.dropout(_fc1, _keep_prob)\n",
    "        # fc2\n",
    "        _out = tf.add(tf.matmul(_dropout, _w['wd2']), _b['bd2'])\n",
    "        # return \n",
    "        out = {\n",
    "            'input_r': _input_r, 'dense1': _dense1, 'fc1': _fc1,\n",
    "            'dropout': _dropout, 'out': _out\n",
    "        }\n",
    "        return out\n",
    "\n",
    "# tf graph input\n",
    "x = tf.placeholder(\"float\", [None, 7*7*512])\n",
    "y = tf.placeholder(\"float\", [None, n_output])\n",
    "keep_prob = tf.placeholder(\"float\")\n",
    "\n",
    "# function\n",
    "with tf.device(\"/cpu:0\"):\n",
    "    _pred = conv_basic(x, weights, biases, keep_prob)['out']\n",
    "    loss = tf.reduce_mean(tf.nn.softmax_cross_entropy_with_logits(logits=_pred, labels=y))\n",
    "    optimizer = tf.train.AdamOptimizer(learning_rate).minimize(loss)\n",
    "    _corr = tf.equal(tf.argmax(_pred, 1), tf.argmax(y, 1))\n",
    "    accuracy = tf.reduce_mean(tf.cast(_corr, \"float\"))\n",
    "    init = tf.global_variables_initializer()\n",
    "    \n",
    "print(\"network ready to go\")        "
   ]
  },
  {
   "cell_type": "markdown",
   "metadata": {
    "collapsed": true
   },
   "source": [
    "## cnn finetuning"
   ]
  },
  {
   "cell_type": "code",
   "execution_count": 15,
   "metadata": {},
   "outputs": [
    {
     "name": "stdout",
     "output_type": "stream",
     "text": [
      "Epoch: [009/100]  avg loss: 2.903176785  train accuracy: 0.770test accuracy: 0.444\n",
      "Epoch: [019/100]  avg loss: 0.018299764  train accuracy: 1.000test accuracy: 0.889\n",
      "Epoch: [029/100]  avg loss: 0.025710233  train accuracy: 0.990test accuracy: 0.722\n",
      "Epoch: [039/100]  avg loss: 0.000000000  train accuracy: 1.000test accuracy: 0.889\n",
      "Epoch: [049/100]  avg loss: 0.000000000  train accuracy: 1.000test accuracy: 0.833\n",
      "Epoch: [059/100]  avg loss: 0.000000000  train accuracy: 1.000test accuracy: 0.833\n",
      "Epoch: [069/100]  avg loss: 0.000000000  train accuracy: 1.000test accuracy: 0.833\n",
      "Epoch: [079/100]  avg loss: 0.000000000  train accuracy: 1.000test accuracy: 0.889\n",
      "Epoch: [089/100]  avg loss: 0.000000000  train accuracy: 1.000test accuracy: 0.889\n",
      "Epoch: [099/100]  avg loss: 0.000000000  train accuracy: 1.000test accuracy: 0.833\n",
      "optimize done\n"
     ]
    }
   ],
   "source": [
    "sess = tf.Session()\n",
    "sess.run(init)\n",
    "\n",
    "# training cycle\n",
    "for epoch in range(training_epochs):\n",
    "    avg_loss = 0\n",
    "    n_batch = int(n_train / batch_size) + 1\n",
    "    # loop over all batches\n",
    "    for i in range(n_batch):\n",
    "        rand_idx = np.random.randint(n_train, size=batch_size)\n",
    "        batch_xs = train_vectorized[rand_idx, :]\n",
    "        batch_ys = train_label[rand_idx, :]\n",
    "        train_feed = {x: batch_xs, y: batch_ys, keep_prob: 0.7}\n",
    "        sess.run(optimizer, feed_dict=train_feed)\n",
    "        feed = {x: batch_xs, y: batch_ys, keep_prob: 1.}\n",
    "        avg_loss += sess.run(loss, feed_dict=feed)\n",
    "    avg_loss = avg_loss/n_batch\n",
    "    \n",
    "    # display\n",
    "    if (epoch + 1) % display_step == 0:\n",
    "        train_accur = sess.run(accuracy, feed_dict=feed)\n",
    "        test_feed = {x: test_vectorized, y: test_label, keep_prob: 1.}\n",
    "        test_accur = sess.run(accuracy, feed_dict=test_feed)\n",
    "        print(\"Epoch: [%03d/%03d]  \" \"avg loss: %.9f  \" \"train accuracy: %.3f\" \"test accuracy: %.3f\" \n",
    "              %(epoch, training_epochs, avg_loss, train_accur, test_accur))\n",
    "print(\"optimize done\")"
   ]
  },
  {
   "cell_type": "code",
   "execution_count": null,
   "metadata": {
    "collapsed": true
   },
   "outputs": [],
   "source": []
  }
 ],
 "metadata": {
  "kernelspec": {
   "display_name": "Python [conda env:jupyter]",
   "language": "python",
   "name": "conda-env-jupyter-py"
  },
  "language_info": {
   "codemirror_mode": {
    "name": "ipython",
    "version": 3
   },
   "file_extension": ".py",
   "mimetype": "text/x-python",
   "name": "python",
   "nbconvert_exporter": "python",
   "pygments_lexer": "ipython3",
   "version": "3.6.2"
  },
  "toc": {
   "base_numbering": 1,
   "nav_menu": {},
   "number_sections": true,
   "sideBar": true,
   "skip_h1_title": false,
   "title_cell": "Table of Contents",
   "title_sidebar": "Contents",
   "toc_cell": false,
   "toc_position": {},
   "toc_section_display": true,
   "toc_window_display": true
  }
 },
 "nbformat": 4,
 "nbformat_minor": 2
}

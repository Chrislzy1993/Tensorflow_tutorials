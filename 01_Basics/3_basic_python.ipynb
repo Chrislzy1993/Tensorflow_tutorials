{
 "cells": [
  {
   "cell_type": "markdown",
   "metadata": {},
   "source": [
    "# basic python"
   ]
  },
  {
   "cell_type": "markdown",
   "metadata": {},
   "source": [
    "## load packages"
   ]
  },
  {
   "cell_type": "code",
   "execution_count": 1,
   "metadata": {},
   "outputs": [
    {
     "name": "stdout",
     "output_type": "stream",
     "text": [
      "load package\n"
     ]
    }
   ],
   "source": [
    "import numpy as np\n",
    "print (\"load package\")"
   ]
  },
  {
   "cell_type": "markdown",
   "metadata": {},
   "source": [
    "## print"
   ]
  },
  {
   "cell_type": "code",
   "execution_count": 2,
   "metadata": {},
   "outputs": [
    {
     "name": "stdout",
     "output_type": "stream",
     "text": [
      "hello world!\n",
      "Integer: 3, 03, 003, 0003\n",
      "Float: 123, 123.5, 123.46, 123.46\n",
      "String: [hello world], [hello world], [         hello world]\n"
     ]
    }
   ],
   "source": [
    "print (\"hello world!\")\n",
    "# integer\n",
    "x = 3\n",
    "print (\"Integer: %01d, %02d, %03d, %04d\" %(x, x, x, x))\n",
    "\n",
    "# float\n",
    "x = 123.456\n",
    "print (\"Float: %.0f, %.1f, %1.2f, %2.2f\" %(x, x, x, x))\n",
    "\n",
    "# string\n",
    "x = \"hello world\"\n",
    "print (\"String: [%s], [%3s], [%20s]\" %(x, x, x))"
   ]
  },
  {
   "cell_type": "markdown",
   "metadata": {},
   "source": [
    "## for + if/else"
   ]
  },
  {
   "cell_type": "code",
   "execution_count": 3,
   "metadata": {},
   "outputs": [
    {
     "name": "stdout",
     "output_type": "stream",
     "text": [
      "We have seen ANN\n",
      "We have seen MLP\n"
     ]
    }
   ],
   "source": [
    "dl_methods = [\"ANN\", \"MLP\", \"CNN\", \"RNN\", \"DAE\"]\n",
    "for alg in dl_methods:\n",
    "    if alg in [\"ANN\", \"MLP\"]:\n",
    "        print (\"We have seen %s\" %(alg))"
   ]
  },
  {
   "cell_type": "code",
   "execution_count": 4,
   "metadata": {},
   "outputs": [
    {
     "name": "stdout",
     "output_type": "stream",
     "text": [
      "ANN is a feed-forward network.\n",
      "MLP is a feed-forward network.\n",
      "CNN is a feed-forward network.\n",
      "RNN is a recurrent network.\n",
      "DAE is an unsupervised method.\n",
      "\n",
      "FOR loop with index.\n",
      "[0/5] ANN is a feed-forward network.\n",
      "[1/5] MLP is a feed-forward network.\n",
      "[2/5] CNN is a feed-forward network.\n",
      "[3/5] RNN is a recurrent network.\n",
      "[4/5] DAE is an unsupervised method.\n"
     ]
    }
   ],
   "source": [
    "dl_methods = [\"ANN\", \"MLP\", \"CNN\", \"RNN\", \"DAE\"]\n",
    "for alg in dl_methods:\n",
    "    if alg in [\"ANN\", \"MLP\", \"CNN\"]:\n",
    "        print(\"%s is a feed-forward network.\" % (alg))\n",
    "    elif alg in [\"RNN\"]:\n",
    "        print(\"%s is a recurrent network.\" % (alg))\n",
    "    else:\n",
    "        print(\"%s is an unsupervised method.\" % (alg))\n",
    "\n",
    "# little more advance?\n",
    "print (\"\\nFOR loop with index.\")\n",
    "for alg, i in zip(dl_methods, range(len(dl_methods))):\n",
    "    if alg in [\"ANN\", \"MLP\", \"CNN\"]:\n",
    "        print (\"[%d/%d] %s is a feed-forward network.\" \n",
    "               % (i, len(dl_methods), alg))\n",
    "    elif alg in [\"RNN\"]:\n",
    "        print (\"[%d/%d] %s is a recurrent network.\" \n",
    "               % (i, len(dl_methods), alg))\n",
    "    else:\n",
    "        print (\"[%d/%d] %s is an unsupervised method.\" \n",
    "               % (i, len(dl_methods), alg))"
   ]
  },
  {
   "cell_type": "markdown",
   "metadata": {},
   "source": [
    "## function"
   ]
  },
  {
   "cell_type": "code",
   "execution_count": 9,
   "metadata": {},
   "outputs": [
    {
     "name": "stdout",
     "output_type": "stream",
     "text": [
      "20.0 + 10.0 = 30.0\n"
     ]
    }
   ],
   "source": [
    "# function definition look like this\n",
    "def sum(a, b):\n",
    "    return a + b\n",
    "\n",
    "x = 20.\n",
    "y =10.\n",
    "print (\"%.1f + %.1f = %.1f\" %(x, y, sum(x, y)))"
   ]
  },
  {
   "cell_type": "markdown",
   "metadata": {},
   "source": [
    "## string operation"
   ]
  },
  {
   "cell_type": "code",
   "execution_count": 11,
   "metadata": {},
   "outputs": [
    {
     "name": "stdout",
     "output_type": "stream",
     "text": [
      "deep learning is veryhard\n",
      "deep learning is veryveryveryhard\n",
      "\n",
      "==================================================\n",
      "               It is used in this way\n",
      "==================================================\n",
      "\n",
      "Index: [00/11] Char: h\n",
      "Index: [01/11] Char: e\n",
      "Index: [02/11] Char: l\n",
      "Index: [03/11] Char: l\n",
      "Index: [04/11] Char: o\n",
      "Index: [05/11] Char:  \n",
      "Index: [06/11] Char: w\n",
      "Index: [07/11] Char: o\n",
      "Index: [08/11] Char: r\n",
      "Index: [09/11] Char: l\n",
      "Index: [10/11] Char: d\n"
     ]
    }
   ],
   "source": [
    "head = \"deep learning\"\n",
    "body = \"very\"\n",
    "tail = \"hard\"\n",
    "print(head + \" is \" + body + tail)\n",
    "\n",
    "# repeat words\n",
    "print(head + \" is \" + body * 3 + tail)\n",
    "\n",
    "# it is used in this way\n",
    "print (\"\\n\" + \"=\"*50)\n",
    "print (\" \"*15 + \"It is used in this way\")\n",
    "print (\"=\"*50 + \"\\n\")\n",
    "\n",
    "# indexing characters in the string\n",
    "x = \"hello world\"\n",
    "for i in range(len(x)):\n",
    "    print(\"Index: [%02d/%02d] Char: %s\" % (i, len(x), x[i]))\n"
   ]
  },
  {
   "cell_type": "code",
   "execution_count": 13,
   "metadata": {},
   "outputs": [
    {
     "name": "stdout",
     "output_type": "stream",
     "text": [
      "(-2)th char is l\n",
      "String from 0 to 8 is [hello wo]\n",
      "String from 4 to END is [o world]\n",
      "[20160607Cloudy] -> [2016] + [0607] + [Cloudy] \n"
     ]
    }
   ],
   "source": [
    "# more about index\n",
    "# python范围: [begin, end)\n",
    "print\n",
    "idx = -2\n",
    "print(\"(%d)th char is %s\" % (idx, x[idx]))\n",
    "\n",
    "idxfr = 0\n",
    "idxto = 8\n",
    "print(\"String from %d to %d is [%s]\" \n",
    "       % (idxfr, idxto, x[idxfr:idxto]))\n",
    "\n",
    "idxfr = 4\n",
    "print (\"String from %d to END is [%s]\" \n",
    "       % (idxfr, x[idxfr:]))\n",
    "\n",
    "x = \"20160607Cloudy\"\n",
    "year = x[:4]\n",
    "day = x[4:8]\n",
    "weather = x[8:]\n",
    "print (\"[%s] -> [%s] + [%s] + [%s] \" \n",
    "       % (x, year, day, weather))"
   ]
  },
  {
   "cell_type": "markdown",
   "metadata": {},
   "source": [
    "## list"
   ]
  },
  {
   "cell_type": "code",
   "execution_count": 17,
   "metadata": {},
   "outputs": [
    {
     "name": "stdout",
     "output_type": "stream",
     "text": [
      "[]\n",
      "['a']\n",
      "['a', 123]\n",
      "['a', 123, ['a', 'b']]\n",
      "length of x is 3\n"
     ]
    }
   ],
   "source": [
    "a = []\n",
    "b = [1, 2, 3]\n",
    "c = [\"Hello\", \",\", \"world\"]\n",
    "d = [1, 2, 3, \"x\", \"y\", \"z\"]\n",
    "\n",
    "x = []\n",
    "print(x)\n",
    "x.append('a')\n",
    "print(x)\n",
    "x.append(123)\n",
    "print(x)\n",
    "x.append([\"a\", \"b\"])\n",
    "print(x)\n",
    "print(\"length of x is %d\" %(len(x)))"
   ]
  },
  {
   "cell_type": "markdown",
   "metadata": {},
   "source": [
    "## dictionary"
   ]
  },
  {
   "cell_type": "code",
   "execution_count": 18,
   "metadata": {},
   "outputs": [
    {
     "name": "stdout",
     "output_type": "stream",
     "text": [
      "{'name': 'sungjoon', 'age': 31, 'job': 'Ph.D. Candidate'}\n"
     ]
    }
   ],
   "source": [
    "dic = dict()\n",
    "dic[\"name\"] = \"sungjoon\"\n",
    "dic[\"age\"] = 31\n",
    "dic[\"job\"] = \"Ph.D. Candidate\"\n",
    "print(dic)"
   ]
  },
  {
   "cell_type": "markdown",
   "metadata": {},
   "source": [
    "## class"
   ]
  },
  {
   "cell_type": "code",
   "execution_count": 20,
   "metadata": {},
   "outputs": [
    {
     "name": "stdout",
     "output_type": "stream",
     "text": [
      "hello, Fred\n",
      "HELLO, FRED\n"
     ]
    }
   ],
   "source": [
    "class Greeter:\n",
    "    # constructor\n",
    "    def __init__(self, name):\n",
    "        self.name = name\n",
    "    \n",
    "    # instance method\n",
    "    def greet(self, loud=False):\n",
    "        if loud:\n",
    "            print(\"HELLO, %s\" % (self.name.upper()))\n",
    "        else:\n",
    "            print(\"hello, %s\" % (self.name))\n",
    "\n",
    "g = Greeter('Fred') # construct an instance \n",
    "g.greet()\n",
    "g.greet(loud=True)"
   ]
  },
  {
   "cell_type": "code",
   "execution_count": 22,
   "metadata": {
    "collapsed": true
   },
   "outputs": [],
   "source": [
    "def print_np(x):\n",
    "    print (\"Type is %s\" % (type(x)))\n",
    "    print (\"Shape is %s\" % (x.shape,))\n",
    "    print (\"Values are: \\n%s\" % (x))\n",
    "    print"
   ]
  },
  {
   "cell_type": "markdown",
   "metadata": {},
   "source": [
    "## array"
   ]
  },
  {
   "cell_type": "code",
   "execution_count": 24,
   "metadata": {},
   "outputs": [
    {
     "name": "stdout",
     "output_type": "stream",
     "text": [
      "Type is <class 'numpy.ndarray'>\n",
      "Shape is (3,)\n",
      "Values are: \n",
      "[1 2 3]\n",
      "Type is <class 'numpy.ndarray'>\n",
      "Shape is (3,)\n",
      "Values are: \n",
      "[5 2 3]\n"
     ]
    }
   ],
   "source": [
    "x = np.array([1, 2, 3]) # rank 1 array\n",
    "print_np(x)\n",
    "\n",
    "x[0] = 5\n",
    "print_np(x)"
   ]
  },
  {
   "cell_type": "code",
   "execution_count": 62,
   "metadata": {},
   "outputs": [
    {
     "name": "stdout",
     "output_type": "stream",
     "text": [
      "Type is <class 'numpy.ndarray'>\n",
      "Shape is (2, 3)\n",
      "Values are: \n",
      "[[1 2 3]\n",
      " [4 5 6]]\n",
      "[[5 2 3]\n",
      " [4 5 6]]\n"
     ]
    }
   ],
   "source": [
    "y = np.array([[1, 2, 3], [4, 5, 6]])  # rank 2 array\n",
    "print_np(y)\n",
    "y[0][0] = 5\n",
    "print(y)"
   ]
  },
  {
   "cell_type": "markdown",
   "metadata": {},
   "source": [
    "## zeros"
   ]
  },
  {
   "cell_type": "code",
   "execution_count": 27,
   "metadata": {},
   "outputs": [
    {
     "name": "stdout",
     "output_type": "stream",
     "text": [
      "Type is <class 'numpy.ndarray'>\n",
      "Shape is (3, 2)\n",
      "Values are: \n",
      "[[0. 0.]\n",
      " [0. 0.]\n",
      " [0. 0.]]\n"
     ]
    }
   ],
   "source": [
    "a = np.zeros((3, 2))\n",
    "print_np(a)"
   ]
  },
  {
   "cell_type": "markdown",
   "metadata": {},
   "source": [
    "## ones"
   ]
  },
  {
   "cell_type": "code",
   "execution_count": 31,
   "metadata": {},
   "outputs": [
    {
     "ename": "TypeError",
     "evalue": "data type not understood",
     "output_type": "error",
     "traceback": [
      "\u001b[0;31m---------------------------------------------------------------------------\u001b[0m",
      "\u001b[0;31mTypeError\u001b[0m                                 Traceback (most recent call last)",
      "\u001b[0;32m<ipython-input-31-492c5bf6d75a>\u001b[0m in \u001b[0;36m<module>\u001b[0;34m()\u001b[0m\n\u001b[0;32m----> 1\u001b[0;31m \u001b[0mb\u001b[0m \u001b[0;34m=\u001b[0m \u001b[0mnp\u001b[0m\u001b[0;34m.\u001b[0m\u001b[0mones\u001b[0m\u001b[0;34m(\u001b[0m\u001b[0;36m1\u001b[0m\u001b[0;34m,\u001b[0m \u001b[0;36m2\u001b[0m\u001b[0;34m)\u001b[0m\u001b[0;34m\u001b[0m\u001b[0m\n\u001b[0m\u001b[1;32m      2\u001b[0m \u001b[0mprint_np\u001b[0m\u001b[0;34m(\u001b[0m\u001b[0mb\u001b[0m\u001b[0;34m)\u001b[0m\u001b[0;34m\u001b[0m\u001b[0m\n",
      "\u001b[0;32m~/.conda/envs/jupyter/lib/python3.6/site-packages/numpy/core/numeric.py\u001b[0m in \u001b[0;36mones\u001b[0;34m(shape, dtype, order)\u001b[0m\n\u001b[1;32m    221\u001b[0m \u001b[0;34m\u001b[0m\u001b[0m\n\u001b[1;32m    222\u001b[0m     \"\"\"\n\u001b[0;32m--> 223\u001b[0;31m     \u001b[0ma\u001b[0m \u001b[0;34m=\u001b[0m \u001b[0mempty\u001b[0m\u001b[0;34m(\u001b[0m\u001b[0mshape\u001b[0m\u001b[0;34m,\u001b[0m \u001b[0mdtype\u001b[0m\u001b[0;34m,\u001b[0m \u001b[0morder\u001b[0m\u001b[0;34m)\u001b[0m\u001b[0;34m\u001b[0m\u001b[0m\n\u001b[0m\u001b[1;32m    224\u001b[0m     \u001b[0mmultiarray\u001b[0m\u001b[0;34m.\u001b[0m\u001b[0mcopyto\u001b[0m\u001b[0;34m(\u001b[0m\u001b[0ma\u001b[0m\u001b[0;34m,\u001b[0m \u001b[0;36m1\u001b[0m\u001b[0;34m,\u001b[0m \u001b[0mcasting\u001b[0m\u001b[0;34m=\u001b[0m\u001b[0;34m'unsafe'\u001b[0m\u001b[0;34m)\u001b[0m\u001b[0;34m\u001b[0m\u001b[0m\n\u001b[1;32m    225\u001b[0m     \u001b[0;32mreturn\u001b[0m \u001b[0ma\u001b[0m\u001b[0;34m\u001b[0m\u001b[0m\n",
      "\u001b[0;31mTypeError\u001b[0m: data type not understood"
     ]
    }
   ],
   "source": [
    "b = np.ones((1, 2))\n",
    "print_np(b)"
   ]
  },
  {
   "cell_type": "markdown",
   "metadata": {},
   "source": [
    "## indentity"
   ]
  },
  {
   "cell_type": "code",
   "execution_count": 32,
   "metadata": {},
   "outputs": [
    {
     "name": "stdout",
     "output_type": "stream",
     "text": [
      "Type is <class 'numpy.ndarray'>\n",
      "Shape is (1, 2)\n",
      "Values are: \n",
      "[[1. 1.]]\n"
     ]
    }
   ],
   "source": [
    "c = np.eye(2, 2)  # 注意这个地方初始化和ones, zeros都不一样\n",
    "print_np(b)"
   ]
  },
  {
   "cell_type": "markdown",
   "metadata": {},
   "source": [
    "## random"
   ]
  },
  {
   "cell_type": "code",
   "execution_count": 37,
   "metadata": {},
   "outputs": [
    {
     "name": "stdout",
     "output_type": "stream",
     "text": [
      "Type is <class 'numpy.ndarray'>\n",
      "Shape is (2, 2)\n",
      "Values are: \n",
      "[[0.38301477 0.39661056]\n",
      " [0.97988072 0.29623113]]\n",
      "Type is <class 'numpy.ndarray'>\n",
      "Shape is (1, 10)\n",
      "Values are: \n",
      "[[ 0.6759397   2.02598135 -0.23735401 -0.52444167  0.29501417  0.41103572\n",
      "  -0.41995069  0.34554244 -1.30825994  0.83415827]]\n",
      "Type is <class 'numpy.ndarray'>\n",
      "Shape is (2, 3)\n",
      "Values are: \n",
      "[[-0.39992831  1.03347497  0.73751357]\n",
      " [ 0.44156565  0.66842828  0.10307145]]\n"
     ]
    }
   ],
   "source": [
    "# random with uniform\n",
    "d = np.random.random((2, 2))\n",
    "print_np(d)\n",
    "\n",
    "# random with gaussian\n",
    "e = np.random.randn(1, 10)  # 满足标准正态分布，　参数为shape\n",
    "print_np(e)\n",
    "\n",
    "e2 = np.random.randn(2, 3)\n",
    "print_np(e2)"
   ]
  },
  {
   "cell_type": "markdown",
   "metadata": {},
   "source": [
    "## array index"
   ]
  },
  {
   "cell_type": "code",
   "execution_count": 38,
   "metadata": {},
   "outputs": [
    {
     "name": "stdout",
     "output_type": "stream",
     "text": [
      "Type is <class 'numpy.ndarray'>\n",
      "Shape is (3, 4)\n",
      "Values are: \n",
      "[[ 1  2  3  4]\n",
      " [ 5  6  7  8]\n",
      " [ 9 10 11 12]]\n",
      "Type is <class 'numpy.ndarray'>\n",
      "Shape is (2, 2)\n",
      "Values are: \n",
      "[[2 3]\n",
      " [6 7]]\n"
     ]
    }
   ],
   "source": [
    "a = np.array([[1, 2, 3, 4], [5, 6, 7, 8], [9, 10, 11, 12]])\n",
    "print_np(a)\n",
    "print\n",
    "b = a[:2, 1:3]\n",
    "print_np(b)"
   ]
  },
  {
   "cell_type": "markdown",
   "metadata": {},
   "source": [
    "## get row"
   ]
  },
  {
   "cell_type": "code",
   "execution_count": 44,
   "metadata": {},
   "outputs": [
    {
     "name": "stdout",
     "output_type": "stream",
     "text": [
      "Type is <class 'numpy.ndarray'>\n",
      "Shape is (4,)\n",
      "Values are: \n",
      "[1 2 3 4]\n",
      "Type is <class 'numpy.ndarray'>\n",
      "Shape is (1, 4)\n",
      "Values are: \n",
      "[[1 2 3 4]]\n",
      "Type is <class 'numpy.ndarray'>\n",
      "Shape is (1, 4)\n",
      "Values are: \n",
      "[[1 2 3 4]]\n"
     ]
    }
   ],
   "source": [
    "a = np.array([[1, 2, 3, 4], [5, 6, 7, 8], [9, 10, 11, 12]])\n",
    "row_r1 = a[0, :] # get rank 1 row\n",
    "print_np(row_r1)\n",
    "\n",
    "row_r2 = a[0:1, :]\n",
    "print_np(row_r2)\n",
    "\n",
    "row_r3 = a[[0], :]\n",
    "print_np(row_r3)"
   ]
  },
  {
   "cell_type": "code",
   "execution_count": 46,
   "metadata": {},
   "outputs": [
    {
     "name": "stdout",
     "output_type": "stream",
     "text": [
      "Type is <class 'numpy.ndarray'>\n",
      "Shape is (3,)\n",
      "Values are: \n",
      "[1 4 5]\n",
      "Type is <class 'numpy.ndarray'>\n",
      "Shape is (3,)\n",
      "Values are: \n",
      "[1 4 5]\n"
     ]
    }
   ],
   "source": [
    "a = np.array([[1,2], [3, 4], [5, 6]])\n",
    "\n",
    "b = a[[0, 1, 2], [0, 1, 0]]\n",
    "print_np(b)\n",
    "\n",
    "c = np.array([a[0, 0], a[1, 1], a[2, 0]])\n",
    "print_np(c)"
   ]
  },
  {
   "cell_type": "markdown",
   "metadata": {},
   "source": [
    "## datatypes"
   ]
  },
  {
   "cell_type": "code",
   "execution_count": 47,
   "metadata": {},
   "outputs": [
    {
     "name": "stdout",
     "output_type": "stream",
     "text": [
      "Type is <class 'numpy.ndarray'>\n",
      "Shape is (2,)\n",
      "Values are: \n",
      "[1 2]\n",
      "Type is <class 'numpy.ndarray'>\n",
      "Shape is (2,)\n",
      "Values are: \n",
      "[1. 2.]\n",
      "Type is <class 'numpy.ndarray'>\n",
      "Shape is (2,)\n",
      "Values are: \n",
      "[1 2]\n"
     ]
    }
   ],
   "source": [
    "# let numpy choose the datatype\n",
    "x = np.array([1, 2]) \n",
    "y = np.array([1.0, 2.0]) \n",
    "z = np.array([1, 2], dtype=np.int64)\n",
    "\n",
    "print_np(x)\n",
    "print_np(y)\n",
    "print_np(z)"
   ]
  },
  {
   "cell_type": "markdown",
   "metadata": {},
   "source": [
    "## array math"
   ]
  },
  {
   "cell_type": "code",
   "execution_count": 51,
   "metadata": {},
   "outputs": [
    {
     "name": "stdout",
     "output_type": "stream",
     "text": [
      "add: \n",
      "[[ 6.  8.]\n",
      " [10. 12.]]\n",
      "[[ 6.  8.]\n",
      " [10. 12.]]\n",
      "sub: \n",
      "[[-4. -4.]\n",
      " [-4. -4.]]\n",
      "[[-4. -4.]\n",
      " [-4. -4.]]\n",
      "mul: \n",
      "[[ 5. 12.]\n",
      " [21. 32.]]\n",
      "[[ 5. 12.]\n",
      " [21. 32.]]\n",
      "div: \n",
      "[[0.2        0.33333333]\n",
      " [0.42857143 0.5       ]]\n",
      "[[0.2        0.33333333]\n",
      " [0.42857143 0.5       ]]\n",
      "sqrt: \n",
      "[[1.         1.41421356]\n",
      " [1.73205081 2.        ]]\n"
     ]
    }
   ],
   "source": [
    "x = np.array([[1, 2], [3, 4]], dtype=np.float64)\n",
    "y = np.array([[5, 6], [7, 8]], dtype=np.float64)\n",
    "\n",
    "# add\n",
    "print(\"add: \")\n",
    "print(x + y)\n",
    "print(np.add(x, y))\n",
    "\n",
    "# sub\n",
    "print(\"sub: \")\n",
    "print(x - y)\n",
    "print(np.subtract(x, y))\n",
    "\n",
    "# mul\n",
    "print(\"mul: \")\n",
    "print(x * y)\n",
    "print(np.multiply(x, y))\n",
    "\n",
    "# div\n",
    "print(\"div: \")\n",
    "print(x/y)\n",
    "print(np.divide(x, y))\n",
    "\n",
    "# sqrt\n",
    "print(\"sqrt: \")\n",
    "print(np.sqrt(x))"
   ]
  },
  {
   "cell_type": "code",
   "execution_count": 54,
   "metadata": {},
   "outputs": [
    {
     "name": "stdout",
     "output_type": "stream",
     "text": [
      "219\n",
      "219\n",
      "[29 67]\n",
      "[29 67]\n",
      "[[19 22]\n",
      " [43 50]]\n",
      "[[19 22]\n",
      " [43 50]]\n"
     ]
    }
   ],
   "source": [
    "# .dot\n",
    "x = np.array([[1,2],[3,4]])\n",
    "y = np.array([[5,6],[7,8]])\n",
    "v = np.array([9,10])\n",
    "w = np.array([11, 12])\n",
    "\n",
    "# Inner product of vectors; both produce 219\n",
    "print(v.dot(w))\n",
    "print(np.dot(v, w)) # <= v * w'\n",
    "# Matrix / vector product; both produce the rank 1 array [29 67]\n",
    "print(x.dot(v)) \n",
    "print(np.dot(x, v))  # <= x * v'\n",
    "# Matrix / matrix product; both produce the rank 2 array\n",
    "# [[19 22]\n",
    "#  [43 50]]\n",
    "print(x.dot(y)) \n",
    "print(np.dot(x, y)) "
   ]
  },
  {
   "cell_type": "code",
   "execution_count": 56,
   "metadata": {},
   "outputs": [
    {
     "name": "stdout",
     "output_type": "stream",
     "text": [
      "10\n",
      "[4 6]\n",
      "[3 7]\n"
     ]
    }
   ],
   "source": [
    "# sum\n",
    "x = np.array([[1, 2], [3, 4]])\n",
    "print(np.sum(x))  # Compute sum of all elements\n",
    "print(np.sum(x, axis=0)) # Compute sum of each column\n",
    "print(np.sum(x, axis=1)) # Compute sum of each row"
   ]
  },
  {
   "cell_type": "code",
   "execution_count": 61,
   "metadata": {},
   "outputs": [
    {
     "name": "stdout",
     "output_type": "stream",
     "text": [
      "Type is <class 'numpy.ndarray'>\n",
      "Shape is (3,)\n",
      "Values are: \n",
      "[1 2 3]\n",
      "[1 2 3]\n",
      "Type is <class 'numpy.ndarray'>\n",
      "Shape is (1, 3)\n",
      "Values are: \n",
      "[[1 2 3]]\n",
      "[[1]\n",
      " [2]\n",
      " [3]]\n"
     ]
    }
   ],
   "source": [
    "# transpose\n",
    "v = np.array([1,2,3])\n",
    "print_np(v)\n",
    "print(v.T)\n",
    "v = np.array([[1,2,3]])\n",
    "print_np(v)\n",
    "print(v.T)"
   ]
  },
  {
   "cell_type": "markdown",
   "metadata": {},
   "source": [
    "## other operations"
   ]
  },
  {
   "cell_type": "code",
   "execution_count": 68,
   "metadata": {},
   "outputs": [
    {
     "name": "stdout",
     "output_type": "stream",
     "text": [
      "Type is <class 'numpy.ndarray'>\n",
      "Shape is (4, 3)\n",
      "Values are: \n",
      "[[ 1  2  3]\n",
      " [ 4  5  6]\n",
      " [ 7  8  9]\n",
      " [10 11 12]]\n",
      "Type is <class 'numpy.ndarray'>\n",
      "Shape is (3,)\n",
      "Values are: \n",
      "[1 0 1]\n",
      "Type is <class 'numpy.ndarray'>\n",
      "Shape is (4, 3)\n",
      "Values are: \n",
      "[[ 1  2  3]\n",
      " [ 4  5  6]\n",
      " [ 7  8  9]\n",
      " [10 11 12]]\n"
     ]
    }
   ],
   "source": [
    "# We will add the vector v to each row of the matrix x,\n",
    "# storing the result in the matrix y\n",
    "x = np.array([[1,2,3], [4,5,6], [7,8,9], [10, 11, 12]])\n",
    "v = np.array([1, 0, 1])\n",
    "y = np.empty_like(x) # create an empty matrix with the same shape as x  ?? 按照文档中生成的数为random的,但是这里不是的.\n",
    "\n",
    "print_np(x)\n",
    "print_np(v)\n",
    "print_np(y)"
   ]
  },
  {
   "cell_type": "code",
   "execution_count": 69,
   "metadata": {},
   "outputs": [
    {
     "name": "stdout",
     "output_type": "stream",
     "text": [
      "Type is <class 'numpy.ndarray'>\n",
      "Shape is (4, 3)\n",
      "Values are: \n",
      "[[ 2  2  4]\n",
      " [ 5  5  7]\n",
      " [ 8  8 10]\n",
      " [11 11 13]]\n"
     ]
    }
   ],
   "source": [
    "# add the vector v to each row of the matrix x\n",
    "for i in range(4):\n",
    "    y[i, :] = x[i, :] + v\n",
    "print_np(y)"
   ]
  },
  {
   "cell_type": "code",
   "execution_count": 71,
   "metadata": {},
   "outputs": [
    {
     "name": "stdout",
     "output_type": "stream",
     "text": [
      "Type is <class 'numpy.ndarray'>\n",
      "Shape is (4, 6)\n",
      "Values are: \n",
      "[[1 0 1 1 0 1]\n",
      " [1 0 1 1 0 1]\n",
      " [1 0 1 1 0 1]\n",
      " [1 0 1 1 0 1]]\n"
     ]
    }
   ],
   "source": [
    "# Stack 4 copies of v on top of each other\n",
    "vv = np.tile(v, (4, 1))\n",
    "print_np(vv)"
   ]
  },
  {
   "cell_type": "markdown",
   "metadata": {},
   "source": [
    "## matplotlib"
   ]
  },
  {
   "cell_type": "code",
   "execution_count": 75,
   "metadata": {},
   "outputs": [
    {
     "data": {
      "text/plain": [
       "[<matplotlib.lines.Line2D at 0x7f92ab973da0>]"
      ]
     },
     "execution_count": 75,
     "metadata": {},
     "output_type": "execute_result"
    },
    {
     "data": {
      "image/png": "[encoded data removed]",
      "text/plain": [
       "<Figure size 432x288 with 1 Axes>"
      ]
     },
     "metadata": {},
     "output_type": "display_data"
    }
   ],
   "source": [
    "import matplotlib.pyplot as plt\n",
    "%matplotlib inline\n",
    "# %matplotlib具体作用是当你调用matplotlib.pyplot的绘图函数plot()进行绘图的时候，\n",
    "# 或者生成一个figure画布的时候，可以直接在你的python console里面生成图像\n",
    "\n",
    "# sin\n",
    "x = np.arange(0, 3 * np.pi, 0.1) #离散点\n",
    "y = np.sin(x)\n",
    "\n",
    "# plot\n",
    "plt.plot(x, y)"
   ]
  },
  {
   "cell_type": "code",
   "execution_count": 76,
   "metadata": {},
   "outputs": [
    {
     "data": {
      "image/png": "[encoded data removed]",
      "text/plain": [
       "<Figure size 432x288 with 1 Axes>"
      ]
     },
     "metadata": {},
     "output_type": "display_data"
    }
   ],
   "source": [
    "y_sin = np.sin(x)\n",
    "y_cos = np.cos(x)\n",
    "\n",
    "# plot\n",
    "plt.plot(x, y_sin)\n",
    "plt.plot(x, y_cos)\n",
    "plt.xlabel('x axis label')\n",
    "plt.ylabel('y axis label')\n",
    "plt.title('sin and cos')\n",
    "plt.legend(['sin', 'cos'])\n",
    "\n",
    "plt.show()"
   ]
  },
  {
   "cell_type": "code",
   "execution_count": 79,
   "metadata": {},
   "outputs": [
    {
     "data": {
      "image/png": "[encoded data removed]",
      "text/plain": [
       "<Figure size 432x288 with 2 Axes>"
      ]
     },
     "metadata": {},
     "output_type": "display_data"
    }
   ],
   "source": [
    "# subplot\n",
    "x = np.arange(0, 3 * np.pi, 0.1)\n",
    "y_sin = np.sin(x)\n",
    "y_cos = np.cos(x)\n",
    "\n",
    "# Set up a subplot grid that has height 2 and width 1,\n",
    "# and set the first such subplot as active.\n",
    "plt.subplot(2, 1, 1)\n",
    "plt.plot(x, y_sin)\n",
    "plt.title('sin')\n",
    "\n",
    "# set the second plot\n",
    "plt.subplot(2, 1, 2)\n",
    "plt.plot(x, y_cos)\n",
    "plt.title('cos')\n",
    "\n",
    "plt.show()"
   ]
  },
  {
   "cell_type": "code",
   "execution_count": null,
   "metadata": {
    "collapsed": true
   },
   "outputs": [],
   "source": []
  }
 ],
 "metadata": {
  "kernelspec": {
   "display_name": "Python [conda env:jupyter]",
   "language": "python",
   "name": "conda-env-jupyter-py"
  },
  "language_info": {
   "codemirror_mode": {
    "name": "ipython",
    "version": 3
   },
   "file_extension": ".py",
   "mimetype": "text/x-python",
   "name": "python",
   "nbconvert_exporter": "python",
   "pygments_lexer": "ipython3",
   "version": "3.6.2"
  },
  "toc": {
   "base_numbering": 1,
   "nav_menu": {},
   "number_sections": true,
   "sideBar": true,
   "skip_h1_title": false,
   "title_cell": "Table of Contents",
   "title_sidebar": "Contents",
   "toc_cell": false,
   "toc_position": {
    "height": "calc(100% - 180px)",
    "left": "10px",
    "top": "150px",
    "width": "307px"
   },
   "toc_section_display": true,
   "toc_window_display": true
  }
 },
 "nbformat": 4,
 "nbformat_minor": 2
}

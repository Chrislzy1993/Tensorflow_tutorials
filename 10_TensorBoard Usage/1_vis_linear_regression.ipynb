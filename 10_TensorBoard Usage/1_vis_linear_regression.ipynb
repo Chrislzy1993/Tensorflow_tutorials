{
 "cells": [
  {
   "cell_type": "markdown",
   "metadata": {
    "collapsed": true
   },
   "source": [
    "# visualizing linear regression"
   ]
  },
  {
   "cell_type": "code",
   "execution_count": 1,
   "metadata": {
    "collapsed": true
   },
   "outputs": [],
   "source": [
    "import tensorflow as tf\n",
    "import numpy as np\n",
    "import matplotlib.pyplot as plt\n",
    "%matplotlib inline"
   ]
  },
  {
   "cell_type": "code",
   "execution_count": 3,
   "metadata": {},
   "outputs": [
    {
     "data": {
      "text/plain": [
       "<matplotlib.legend.Legend at 0x7f26f144cc50>"
      ]
     },
     "execution_count": 3,
     "metadata": {},
     "output_type": "execute_result"
    },
    {
     "data": {
      "image/png": "[encoded data removed]",
      "text/plain": [
       "<Figure size 432x288 with 1 Axes>"
      ]
     },
     "metadata": {},
     "output_type": "display_data"
    }
   ],
   "source": [
    "np.random.seed(1)\n",
    "def f(x, a, b):\n",
    "    n = train_x.size\n",
    "    vals = np.zeros((1, n))\n",
    "    for i in range(0, n):\n",
    "        ax = np.multiply(a, x.item(i))\n",
    "        val = np.add(ax, b)\n",
    "        vals[0, i] = val \n",
    "    return vals\n",
    "\n",
    "wref = 0.7\n",
    "bref = -1\n",
    "n = 20\n",
    "noise_var = 0.001\n",
    "train_x = np.random.random((1, n))\n",
    "ref_y = f(train_x, wref, bref)\n",
    "train_y = ref_y + np.sqrt(noise_var)*np.random.randn(1, n)\n",
    "n_samples = train_x.size\n",
    "\n",
    "# plot \n",
    "plt.figure(1)\n",
    "plt.plot(train_x[0, :], ref_y[0, :], 'ro', label='original data')\n",
    "plt.plot(train_x[0, :], train_y[0, :], 'bo', label='training data')\n",
    "plt.axis('equal')\n",
    "plt.legend(loc='lower right')"
   ]
  },
  {
   "cell_type": "code",
   "execution_count": 13,
   "metadata": {},
   "outputs": [
    {
     "name": "stdout",
     "output_type": "stream",
     "text": [
      "[000 / 1000]  loss: 0.832  wtemp is: -0.031  btemp is: 0.160\n",
      "[100 / 1000]  loss: 0.002  wtemp is: 0.563  btemp is: -0.951\n",
      "[200 / 1000]  loss: 0.001  wtemp is: 0.675  btemp is: -0.994\n",
      "[300 / 1000]  loss: 0.001  wtemp is: 0.689  btemp is: -1.000\n",
      "[400 / 1000]  loss: 0.001  wtemp is: 0.690  btemp is: -1.001\n",
      "[500 / 1000]  loss: 0.001  wtemp is: 0.690  btemp is: -1.001\n",
      "[600 / 1000]  loss: 0.001  wtemp is: 0.691  btemp is: -1.001\n",
      "[700 / 1000]  loss: 0.001  wtemp is: 0.691  btemp is: -1.001\n",
      "[800 / 1000]  loss: 0.001  wtemp is: 0.691  btemp is: -1.001\n",
      "[900 / 1000]  loss: 0.001  wtemp is: 0.691  btemp is: -1.001\n"
     ]
    }
   ],
   "source": [
    "# parameters\n",
    "training_epochs = 1000\n",
    "display_step = 100\n",
    "\n",
    "# set tensorflow graph\n",
    "x = tf.placeholder(\"float\")\n",
    "y = tf.placeholder(\"float\")\n",
    "w = tf.Variable(np.random.randn())\n",
    "b = tf.Variable(np.random.randn())\n",
    "\n",
    "# construct a model\n",
    "pred = tf.add(tf.multiply(x, w), b)\n",
    "\n",
    "# define error measure and optimizer\n",
    "learning_rate = 0.01\n",
    "loss = tf.reduce_mean(tf.pow(pred - y, 2))\n",
    "optimizer = tf.train.GradientDescentOptimizer(learning_rate).minimize(loss)\n",
    "\n",
    "# initilizer\n",
    "init = tf.global_variables_initializer()\n",
    "\n",
    "\n",
    "# run\n",
    "sess = tf.Session()\n",
    "sess.run(init)\n",
    "\n",
    "# summary\n",
    "summary_writer = tf.summary.FileWriter('/tmp/tf_logs/linear_regression', graph=sess.graph)\n",
    "for epoch in range(training_epochs):\n",
    "    for (_x, _y) in zip(train_x[0, :], train_y[0, :]):\n",
    "        sess.run(optimizer, feed_dict={x: _x, y: _y})\n",
    "        \n",
    "    # checkout\n",
    "    if epoch %display_step == 0:\n",
    "        loss_value = sess.run(loss, feed_dict={x: train_x, y: train_y})\n",
    "        wtemp = sess.run(w)\n",
    "        btemp = sess.run(b)\n",
    "        print(\"[%03d / %03d]  loss: %.3f  \" \"wtemp is: %.3f  \" \"btemp is: %.3f\" \n",
    "              %(epoch, training_epochs, loss_value, wtemp, btemp))\n",
    "# final w and b\n",
    "wopt = sess.run(w)\n",
    "bopt = sess.run(b)\n",
    "fopt = f(train_x, wopt, bopt)"
   ]
  },
  {
   "cell_type": "code",
   "execution_count": 14,
   "metadata": {},
   "outputs": [
    {
     "data": {
      "text/plain": [
       "<matplotlib.legend.Legend at 0x7f26ead5cf60>"
      ]
     },
     "execution_count": 14,
     "metadata": {},
     "output_type": "execute_result"
    },
    {
     "data": {
      "image/png": "[encoded data removed]",
      "text/plain": [
       "<Figure size 432x288 with 1 Axes>"
      ]
     },
     "metadata": {},
     "output_type": "display_data"
    }
   ],
   "source": [
    "# plot result\n",
    "plt.figure(2)\n",
    "plt.plot(train_x[0, :], ref_y[0, :], 'ro', label='original data')\n",
    "plt.plot(train_x[0, :], train_y[0, :], 'bo', label='training data')\n",
    "plt.plot(train_x[0, :], fopt[0, :], 'k-', label='fitted line')\n",
    "plt.axis('equal')\n",
    "plt.legend(loc='lower right')"
   ]
  },
  {
   "cell_type": "markdown",
   "metadata": {},
   "source": [
    "## run the command line"
   ]
  },
  {
   "cell_type": "code",
   "execution_count": 16,
   "metadata": {},
   "outputs": [
    {
     "ename": "SyntaxError",
     "evalue": "invalid syntax (<ipython-input-16-5489cac21dc3>, line 1)",
     "output_type": "error",
     "traceback": [
      "\u001b[0;36m  File \u001b[0;32m\"<ipython-input-16-5489cac21dc3>\"\u001b[0;36m, line \u001b[0;32m1\u001b[0m\n\u001b[0;31m    tensorboard --logdir=/tmp/tf_logs/linear_regression\u001b[0m\n\u001b[0m                         ^\u001b[0m\n\u001b[0;31mSyntaxError\u001b[0m\u001b[0;31m:\u001b[0m invalid syntax\n"
     ]
    }
   ],
   "source": [
    "tensorboard --logdir=/tmp/tf_logs/linear_regression"
   ]
  },
  {
   "cell_type": "markdown",
   "metadata": {},
   "source": [
    "## Open http://localhost:6006/ into your web browser"
   ]
  },
  {
   "cell_type": "code",
   "execution_count": null,
   "metadata": {
    "collapsed": true
   },
   "outputs": [],
   "source": []
  },
  {
   "cell_type": "code",
   "execution_count": null,
   "metadata": {
    "collapsed": true
   },
   "outputs": [],
   "source": []
  },
  {
   "cell_type": "code",
   "execution_count": null,
   "metadata": {
    "collapsed": true
   },
   "outputs": [],
   "source": []
  },
  {
   "cell_type": "code",
   "execution_count": null,
   "metadata": {
    "collapsed": true
   },
   "outputs": [],
   "source": []
  },
  {
   "cell_type": "code",
   "execution_count": null,
   "metadata": {
    "collapsed": true
   },
   "outputs": [],
   "source": []
  },
  {
   "cell_type": "code",
   "execution_count": null,
   "metadata": {
    "collapsed": true
   },
   "outputs": [],
   "source": []
  },
  {
   "cell_type": "code",
   "execution_count": null,
   "metadata": {
    "collapsed": true
   },
   "outputs": [],
   "source": []
  },
  {
   "cell_type": "code",
   "execution_count": null,
   "metadata": {
    "collapsed": true
   },
   "outputs": [],
   "source": []
  },
  {
   "cell_type": "code",
   "execution_count": null,
   "metadata": {
    "collapsed": true
   },
   "outputs": [],
   "source": []
  }
 ],
 "metadata": {
  "kernelspec": {
   "display_name": "Python [conda env:jupyter]",
   "language": "python",
   "name": "conda-env-jupyter-py"
  },
  "language_info": {
   "codemirror_mode": {
    "name": "ipython",
    "version": 3
   },
   "file_extension": ".py",
   "mimetype": "text/x-python",
   "name": "python",
   "nbconvert_exporter": "python",
   "pygments_lexer": "ipython3",
   "version": "3.6.2"
  },
  "toc": {
   "base_numbering": 1,
   "nav_menu": {},
   "number_sections": true,
   "sideBar": true,
   "skip_h1_title": false,
   "title_cell": "Table of Contents",
   "title_sidebar": "Contents",
   "toc_cell": false,
   "toc_position": {},
   "toc_section_display": true,
   "toc_window_display": false
  }
 },
 "nbformat": 4,
 "nbformat_minor": 2
}

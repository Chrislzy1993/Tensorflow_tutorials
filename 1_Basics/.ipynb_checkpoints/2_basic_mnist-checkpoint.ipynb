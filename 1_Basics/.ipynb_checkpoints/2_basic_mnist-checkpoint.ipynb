{
 "cells": [
  {
   "cell_type": "markdown",
   "metadata": {},
   "source": [
    "# mnist"
   ]
  },
  {
   "cell_type": "code",
   "execution_count": 2,
   "metadata": {},
   "outputs": [
    {
     "name": "stdout",
     "output_type": "stream",
     "text": [
      "packs load\n"
     ]
    }
   ],
   "source": [
    "import numpy as np\n",
    "import tensorflow as tf\n",
    "import matplotlib.pyplot as plt\n",
    "from tensorflow.examples.tutorials.mnist import input_data\n",
    "\n",
    "%matplotlib inline\n",
    "print(\"packs load\")"
   ]
  },
  {
   "cell_type": "markdown",
   "metadata": {},
   "source": [
    "## download and extract mnist dataset"
   ]
  },
  {
   "cell_type": "code",
   "execution_count": 16,
   "metadata": {},
   "outputs": [
    {
     "name": "stdout",
     "output_type": "stream",
     "text": [
      "Download and Extract Mnist dataset\n",
      "Extracting ../MNIST_data/train-images-idx3-ubyte.gz\n",
      "Extracting ../MNIST_data/train-labels-idx1-ubyte.gz\n",
      "Extracting ../MNIST_data/t10k-images-idx3-ubyte.gz\n",
      "Extracting ../MNIST_data/t10k-labels-idx1-ubyte.gz\n",
      " tpye of 'mnist' is <class 'tensorflow.contrib.learn.python.learn.datasets.base.Datasets'>\n",
      " number of trian data is 55000\n",
      " number of test data is 10000\n"
     ]
    }
   ],
   "source": [
    "print(\"Download and Extract Mnist dataset\")\n",
    "mnist = input_data.read_data_sets('../MNIST_data/', one_hot=True)\n",
    "print\n",
    "print (\" tpye of 'mnist' is %s\" % (type(mnist)))\n",
    "print (\" number of trian data is %d\" % (mnist.train.num_examples))\n",
    "print (\" number of test data is %d\" % (mnist.test.num_examples))"
   ]
  },
  {
   "cell_type": "markdown",
   "metadata": {},
   "source": [
    "## about mnist"
   ]
  },
  {
   "cell_type": "code",
   "execution_count": 5,
   "metadata": {},
   "outputs": [
    {
     "name": "stdout",
     "output_type": "stream",
     "text": [
      "what does the data of mnist look like?\n",
      " type of 'trainimg' is <class 'numpy.ndarray'>\n",
      " type of 'trainlabel' is <class 'numpy.ndarray'>\n",
      " type of 'testimg' is <class 'numpy.ndarray'>\n",
      " type of 'testlabel' is <class 'numpy.ndarray'>\n",
      " shape of 'trainimg' is (55000, 784)\n",
      " shape of 'trainlabel' is (55000, 10)\n",
      " shape of 'testimg' is (10000, 784)\n",
      " shape of 'testlabel' is (10000, 10)\n"
     ]
    }
   ],
   "source": [
    "# what does the data of mnist look like\n",
    "print(\"what does the data of mnist look like?\")\n",
    "train_img = mnist.train.images\n",
    "train_label = mnist.train.labels\n",
    "test_img = mnist.test.images\n",
    "test_label = mnist.test.labels\n",
    "print\n",
    "print (\" type of 'trai nimg' is %s\"    % (type(train_img)))\n",
    "print (\" type of 'trainlabel' is %s\"  % (type(train_label)))\n",
    "print (\" type of 'testimg' is %s\"     % (type(test_img)))\n",
    "print (\" type of 'testlabel' is %s\"   % (type(test_label)))\n",
    "print (\" shape of 'trainimg' is %s\"   % (train_img.shape,))\n",
    "print (\" shape of 'trainlabel' is %s\" % (train_label.shape,))\n",
    "print (\" shape of 'testimg' is %s\"    % (test_img.shape,))\n",
    "print (\" shape of 'testlabel' is %s\"  % (test_label.shape,))"
   ]
  },
  {
   "cell_type": "code",
   "execution_count": 12,
   "metadata": {},
   "outputs": [
    {
     "name": "stdout",
     "output_type": "stream",
     "text": [
      "how does the training data look like?\n",
      "4311th training data label is 9\n",
      "13654th training data label is 4\n",
      "37367th training data label is 9\n",
      "7995th training data label is 3\n",
      "5581th training data label is 1\n"
     ]
    }
   ],
   "source": [
    "# how does the training data look like \n",
    "print(\"how does the training data look like?\")\n",
    "nsample = 5\n",
    "randidx = np.random.randint(train_img.shape[0], size=nsample)  # 产生一些随机整数\n",
    "\n",
    "for i in randidx:\n",
    "    curr_img = np.reshape(train_img[i, :], (28, 28)) # img, 28 x 28 matrix\n",
    "    curr_label = np.argmax(train_label[i, :]) # label\n",
    "    plt.matshow(curr_img, cmap=plt.get_cmap('gray'))  # 没有显示\n",
    "    plt.title(\"\" + str(i) + \"th training data \" + \"label is \" + str(curr_label))\n",
    "    print(\"\" + str(i) + \"th training data \" + \"label is \" + str(curr_label))"
   ]
  },
  {
   "cell_type": "markdown",
   "metadata": {},
   "source": [
    "## batch learning"
   ]
  },
  {
   "cell_type": "code",
   "execution_count": 13,
   "metadata": {},
   "outputs": [
    {
     "name": "stdout",
     "output_type": "stream",
     "text": [
      "batch learning?\n",
      "type of 'batch_xs' is <class 'numpy.ndarray'>\n",
      "type of 'batch_ys' is <class 'numpy.ndarray'>\n",
      "shape of 'batch_xs' is (100, 784)\n",
      "shape of 'batch_ys' is (100, 10)\n"
     ]
    }
   ],
   "source": [
    "# batch learning\n",
    "print(\"batch learning?\")\n",
    "batch_size = 100\n",
    "batch_xs, batch_ys = mnist.train.next_batch(batch_size)\n",
    "print (\"type of 'batch_xs' is %s\" % (type(batch_xs)))\n",
    "print (\"type of 'batch_ys' is %s\" % (type(batch_ys)))\n",
    "print (\"shape of 'batch_xs' is %s\" % (batch_xs.shape,))\n",
    "print (\"shape of 'batch_ys' is %s\" % (batch_ys.shape,))"
   ]
  },
  {
   "cell_type": "code",
   "execution_count": 14,
   "metadata": {},
   "outputs": [
    {
     "name": "stdout",
     "output_type": "stream",
     "text": [
      "Get Random Batch with 'np.random.randint'\n",
      "type of 'batch_xs2' is <class 'numpy.ndarray'>\n",
      "type of 'batch_ys2' is <class 'numpy.ndarray'>\n",
      "shape of 'batch_xs2' is (100, 784)\n",
      "shape of 'batch_ys2' is (100, 10)\n"
     ]
    }
   ],
   "source": [
    "# get random batch with 'np.random.randint'\n",
    "print(\"Get Random Batch with 'np.random.randint'\")\n",
    "randidx = np.random.randint(train_img.shape[0], size = batch_size)\n",
    "batch_xs2 = train_img[randidx, :]\n",
    "batch_ys2 = train_label[randidx, :]\n",
    "print (\"type of 'batch_xs2' is %s\" % (type(batch_xs2)))\n",
    "print (\"type of 'batch_ys2' is %s\" % (type(batch_ys2)))\n",
    "print (\"shape of 'batch_xs2' is %s\" % (batch_xs2.shape,))\n",
    "print (\"shape of 'batch_ys2' is %s\" % (batch_ys2.shape,))"
   ]
  },
  {
   "cell_type": "code",
   "execution_count": 15,
   "metadata": {},
   "outputs": [
    {
     "data": {
      "text/plain": [
       "array([46236, 26274,  1884, 44458, 36273, 12290, 42931, 19454,   385,\n",
       "        8015, 31567,  6721, 21935,  9454, 12489, 44298,  1406,  7071,\n",
       "       43855, 22417, 49009, 51427, 15019, 22709, 53221, 46169, 47141,\n",
       "       24971, 53480, 47489, 24713, 37816, 52664,    29, 43622, 24129,\n",
       "       34597, 38799, 46078, 28297, 34340, 47672, 19120,  8376, 32212,\n",
       "       54522,  7205, 15474, 30855, 28085, 20241, 22278, 23454, 29807,\n",
       "       22156,  8817,  4732, 50437, 42543,  5607, 43419, 23138, 40106,\n",
       "       54267, 26205, 41524, 28258, 25635, 36024,  3695, 49910, 17944,\n",
       "       10755, 20170, 38131, 38666,  1439, 48652,  1664, 16873, 31399,\n",
       "       35948, 54749, 45769, 45003, 38147, 36082, 40295, 18712,  7964,\n",
       "       53776,  2995, 20926,   794, 36752, 23619, 21821, 17216, 11523,\n",
       "       37876])"
      ]
     },
     "execution_count": 15,
     "metadata": {},
     "output_type": "execute_result"
    }
   ],
   "source": [
    "randidx"
   ]
  },
  {
   "cell_type": "code",
   "execution_count": null,
   "metadata": {
    "collapsed": true
   },
   "outputs": [],
   "source": []
  }
 ],
 "metadata": {
  "kernelspec": {
   "display_name": "Python [conda env:jupyter]",
   "language": "python",
   "name": "conda-env-jupyter-py"
  },
  "language_info": {
   "codemirror_mode": {
    "name": "ipython",
    "version": 3
   },
   "file_extension": ".py",
   "mimetype": "text/x-python",
   "name": "python",
   "nbconvert_exporter": "python",
   "pygments_lexer": "ipython3",
   "version": "3.6.2"
  },
  "toc": {
   "base_numbering": 1,
   "nav_menu": {},
   "number_sections": true,
   "sideBar": true,
   "skip_h1_title": false,
   "title_cell": "Table of Contents",
   "title_sidebar": "Contents",
   "toc_cell": false,
   "toc_position": {},
   "toc_section_display": true,
   "toc_window_display": true
  }
 },
 "nbformat": 4,
 "nbformat_minor": 2
}

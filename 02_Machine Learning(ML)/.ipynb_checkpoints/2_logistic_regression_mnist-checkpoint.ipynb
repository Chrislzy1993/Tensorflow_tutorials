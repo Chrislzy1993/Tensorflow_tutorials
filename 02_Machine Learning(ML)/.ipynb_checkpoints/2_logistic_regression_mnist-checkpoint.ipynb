{
 "cells": [
  {
   "cell_type": "markdown",
   "metadata": {},
   "source": [
    "# logistic regression with mnist"
   ]
  },
  {
   "cell_type": "code",
   "execution_count": 1,
   "metadata": {},
   "outputs": [
    {
     "name": "stdout",
     "output_type": "stream",
     "text": [
      "WARNING:tensorflow:From <ipython-input-1-718d7679f6e2>:5: read_data_sets (from tensorflow.contrib.learn.python.learn.datasets.mnist) is deprecated and will be removed in a future version.\n",
      "Instructions for updating:\n",
      "Please use alternatives such as official/mnist/dataset.py from tensorflow/models.\n",
      "WARNING:tensorflow:From /home/liuzhiyang/.conda/envs/jupyter/lib/python3.6/site-packages/tensorflow/contrib/learn/python/learn/datasets/mnist.py:260: maybe_download (from tensorflow.contrib.learn.python.learn.datasets.base) is deprecated and will be removed in a future version.\n",
      "Instructions for updating:\n",
      "Please write your own downloading logic.\n",
      "WARNING:tensorflow:From /home/liuzhiyang/.conda/envs/jupyter/lib/python3.6/site-packages/tensorflow/contrib/learn/python/learn/datasets/mnist.py:262: extract_images (from tensorflow.contrib.learn.python.learn.datasets.mnist) is deprecated and will be removed in a future version.\n",
      "Instructions for updating:\n",
      "Please use tf.data to implement this functionality.\n",
      "Extracting ../MNIST_data/train-images-idx3-ubyte.gz\n",
      "WARNING:tensorflow:From /home/liuzhiyang/.conda/envs/jupyter/lib/python3.6/site-packages/tensorflow/contrib/learn/python/learn/datasets/mnist.py:267: extract_labels (from tensorflow.contrib.learn.python.learn.datasets.mnist) is deprecated and will be removed in a future version.\n",
      "Instructions for updating:\n",
      "Please use tf.data to implement this functionality.\n",
      "Extracting ../MNIST_data/train-labels-idx1-ubyte.gz\n",
      "WARNING:tensorflow:From /home/liuzhiyang/.conda/envs/jupyter/lib/python3.6/site-packages/tensorflow/contrib/learn/python/learn/datasets/mnist.py:110: dense_to_one_hot (from tensorflow.contrib.learn.python.learn.datasets.mnist) is deprecated and will be removed in a future version.\n",
      "Instructions for updating:\n",
      "Please use tf.one_hot on tensors.\n",
      "Extracting ../MNIST_data/t10k-images-idx3-ubyte.gz\n",
      "Extracting ../MNIST_data/t10k-labels-idx1-ubyte.gz\n",
      "WARNING:tensorflow:From /home/liuzhiyang/.conda/envs/jupyter/lib/python3.6/site-packages/tensorflow/contrib/learn/python/learn/datasets/mnist.py:290: DataSet.__init__ (from tensorflow.contrib.learn.python.learn.datasets.mnist) is deprecated and will be removed in a future version.\n",
      "Instructions for updating:\n",
      "Please use alternatives such as official/mnist/dataset.py from tensorflow/models.\n",
      "PACKAGES LOADED\n"
     ]
    }
   ],
   "source": [
    "import numpy as np\n",
    "import tensorflow as tf\n",
    "import matplotlib.pyplot as plt\n",
    "from tensorflow.examples.tutorials.mnist import input_data\n",
    "mnist      = input_data.read_data_sets('../MNIST_data/', one_hot=True)\n",
    "print (\"PACKAGES LOADED\")"
   ]
  },
  {
   "cell_type": "code",
   "execution_count": 2,
   "metadata": {},
   "outputs": [
    {
     "name": "stdout",
     "output_type": "stream",
     "text": [
      "MNIST loaded\n"
     ]
    }
   ],
   "source": [
    "# data\n",
    "train_img = mnist.train.images\n",
    "train_label = mnist.train.labels\n",
    "test_img = mnist.test.images\n",
    "test_label = mnist.test.labels\n",
    "print(\"MNIST loaded\")"
   ]
  },
  {
   "cell_type": "code",
   "execution_count": 3,
   "metadata": {},
   "outputs": [
    {
     "name": "stdout",
     "output_type": "stream",
     "text": [
      "WARNING:tensorflow:From /home/liuzhiyang/.conda/envs/jupyter/lib/python3.6/site-packages/tensorflow/python/framework/op_def_library.py:263: colocate_with (from tensorflow.python.framework.ops) is deprecated and will be removed in a future version.\n",
      "Instructions for updating:\n",
      "Colocations handled automatically by placer.\n",
      "WARNING:tensorflow:From /home/liuzhiyang/.conda/envs/jupyter/lib/python3.6/site-packages/tensorflow/python/ops/math_ops.py:3066: to_int32 (from tensorflow.python.ops.math_ops) is deprecated and will be removed in a future version.\n",
      "Instructions for updating:\n",
      "Use tf.cast instead.\n"
     ]
    }
   ],
   "source": [
    "# create tensor graph for logistic regression\n",
    "x = tf.placeholder(\"float\", [None, 784])  # 28 X 28\n",
    "y = tf.placeholder(\"float\", [None, 10])   # none for infinite\n",
    "W = tf.Variable(tf.zeros([784, 10]))\n",
    "b = tf.Variable(tf.zeros([10]))\n",
    "\n",
    "# logistic regression model (softmax)\n",
    "y_ = tf.nn.softmax(tf.matmul(x, W) + b)\n",
    "\n",
    "# loss function(cross　entropy)\n",
    "loss = tf.reduce_mean(-tf.reduce_sum(y * tf.log(y_), reduction_indices=1))\n",
    "\n",
    "# optimizer\n",
    "learning_rate = 0.01\n",
    "optimizer = tf.train.GradientDescentOptimizer(learning_rate).minimize(loss)"
   ]
  },
  {
   "cell_type": "code",
   "execution_count": 4,
   "metadata": {
    "collapsed": true
   },
   "outputs": [],
   "source": [
    "# prediction and accuracy\n",
    "pred = tf.equal(tf.argmax(y_, 1), tf.argmax(y, 1))\n",
    "accuracy = tf.reduce_mean(tf.cast(pred, \"float\"))\n",
    "\n",
    "# init\n",
    "init = tf.global_variables_initializer()"
   ]
  },
  {
   "cell_type": "code",
   "execution_count": 8,
   "metadata": {},
   "outputs": [
    {
     "name": "stdout",
     "output_type": "stream",
     "text": [
      "Epoch: 000/050  cost: 646.839493692  train_acc: 0.840  test_acc: 0.854\n",
      "Epoch: 005/050  cost: 242.559108317  train_acc: 0.910  test_acc: 0.895\n",
      "Epoch: 010/050  cost: 210.851605996  train_acc: 0.950  test_acc: 0.904\n",
      "Epoch: 015/050  cost: 196.499106094  train_acc: 0.880  test_acc: 0.910\n",
      "Epoch: 020/050  cost: 187.806619897  train_acc: 0.930  test_acc: 0.912\n",
      "Epoch: 025/050  cost: 181.779642031  train_acc: 0.910  test_acc: 0.914\n",
      "Epoch: 030/050  cost: 177.307893679  train_acc: 0.900  test_acc: 0.916\n",
      "Epoch: 035/050  cost: 173.788578480  train_acc: 0.870  test_acc: 0.916\n",
      "Epoch: 040/050  cost: 170.908904605  train_acc: 0.900  test_acc: 0.918\n",
      "Epoch: 045/050  cost: 168.504267842  train_acc: 0.910  test_acc: 0.918\n"
     ]
    }
   ],
   "source": [
    "# train model\n",
    "training_epochs = 50\n",
    "batch_size = 100\n",
    "display_step = 5\n",
    "\n",
    "# session\n",
    "sess = tf.Session()\n",
    "sess.run(init)\n",
    "\n",
    "# mini-batch learning\n",
    "for epoch in range(training_epochs):\n",
    "    avg_loss = 0\n",
    "    num_batch = int(mnist.train.num_examples/batch_size)\n",
    "    for i in range(num_batch):\n",
    "        batch_xs, batch_ys = mnist.train.next_batch(batch_size)\n",
    "        feed_train = {x: batch_xs, y: batch_ys}\n",
    "        sess.run(optimizer, feed_dict=feed_train)\n",
    "        avg_loss += sess.run(loss, feed_dict=feed_train)\n",
    "    \n",
    "    #display\n",
    "    if epoch % display_step == 0:\n",
    "        feed_test = {x: mnist.test.images, y: mnist.test.labels}\n",
    "        train_acc = sess.run(accuracy, feed_dict=feed_train)\n",
    "        test_acc = sess.run(accuracy, feed_dict=feed_test)\n",
    "        print(\"Epoch: %03d/%03d  \" \"cost: %.9f  \" \"train_acc: %.3f  \" \"test_acc: %.3f\"\n",
    "              % (epoch, training_epochs, avg_loss, train_acc, test_acc))"
   ]
  },
  {
   "cell_type": "code",
   "execution_count": null,
   "metadata": {
    "collapsed": true
   },
   "outputs": [],
   "source": [
    "sess.close()"
   ]
  }
 ],
 "metadata": {
  "kernelspec": {
   "display_name": "Python [conda env:jupyter]",
   "language": "python",
   "name": "conda-env-jupyter-py"
  },
  "language_info": {
   "codemirror_mode": {
    "name": "ipython",
    "version": 3
   },
   "file_extension": ".py",
   "mimetype": "text/x-python",
   "name": "python",
   "nbconvert_exporter": "python",
   "pygments_lexer": "ipython3",
   "version": "3.6.2"
  },
  "toc": {
   "base_numbering": 1,
   "nav_menu": {},
   "number_sections": true,
   "sideBar": true,
   "skip_h1_title": false,
   "title_cell": "Table of Contents",
   "title_sidebar": "Contents",
   "toc_cell": false,
   "toc_position": {},
   "toc_section_display": true,
   "toc_window_display": false
  }
 },
 "nbformat": 4,
 "nbformat_minor": 2
}

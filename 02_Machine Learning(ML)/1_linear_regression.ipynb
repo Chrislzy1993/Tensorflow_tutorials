{
 "cells": [
  {
   "cell_type": "markdown",
   "metadata": {},
   "source": [
    "# linear regression"
   ]
  },
  {
   "cell_type": "code",
   "execution_count": 1,
   "metadata": {},
   "outputs": [
    {
     "name": "stdout",
     "output_type": "stream",
     "text": [
      "package loaded\n"
     ]
    }
   ],
   "source": [
    "import tensorflow as tf\n",
    "import numpy as np\n",
    "import matplotlib.pyplot as plt\n",
    "%matplotlib inline\n",
    "print(\"package loaded\")"
   ]
  },
  {
   "cell_type": "code",
   "execution_count": 2,
   "metadata": {},
   "outputs": [
    {
     "name": "stdout",
     "output_type": "stream",
     "text": [
      "\n",
      " Type of 'train_X' is  <class 'numpy.ndarray'>\n",
      " Shape of 'train_X' is (1, 20)\n",
      " Type of 'train_Y' is  <class 'numpy.ndarray'>\n",
      " Shape of 'train_Y' is (1, 20)\n"
     ]
    },
    {
     "data": {
      "text/plain": [
       "<matplotlib.legend.Legend at 0x7f780d5075c0>"
      ]
     },
     "execution_count": 2,
     "metadata": {},
     "output_type": "execute_result"
    },
    {
     "data": {
      "image/png": "[encoded data removed]",
      "text/plain": [
       "<Figure size 432x288 with 1 Axes>"
      ]
     },
     "metadata": {},
     "output_type": "display_data"
    }
   ],
   "source": [
    "# generate training data\n",
    "np.random.seed(1)\n",
    "def f(x, a, b):\n",
    "    n = x.size\n",
    "    vals = np.zeros((1, n))\n",
    "    for i in range(0, n):\n",
    "        ax = np.multiply(a, x.item(i))\n",
    "        val = np.add(ax, b)\n",
    "        vals[0, i] = val \n",
    "    return vals\n",
    "\n",
    "Wref = 0.7\n",
    "bref = -1\n",
    "n = 20\n",
    "noise_var = 0.001\n",
    "train_X = np.random.random((1, n))\n",
    "ref_Y = f(train_X, Wref, bref)\n",
    "train_Y = ref_Y + np.sqrt(noise_var)*np.random.randn(1, n)  # 产生方差为0.1的随机数\n",
    "n_samples = train_X.size\n",
    "\n",
    "print (\"\")\n",
    "print (\" Type of 'train_X' is \", type(train_X))\n",
    "print (\" Shape of 'train_X' is %s\" % (train_X.shape,))\n",
    "print (\" Type of 'train_Y' is \", type(train_Y))\n",
    "print (\" Shape of 'train_Y' is %s\" % (train_Y.shape,))\n",
    "\n",
    "# plot\n",
    "plt.figure(1)\n",
    "plt.plot(train_X[0, :], ref_Y[0, :], 'ro', label='Original data')  # 原始数据\n",
    "plt.plot(train_X[0, :], train_Y[0, :], 'bo', label='Training data') # 加入高斯噪声后的数据\n",
    "plt.axis('equal')\n",
    "plt.legend(loc='lower right')"
   ]
  },
  {
   "cell_type": "code",
   "execution_count": 3,
   "metadata": {},
   "outputs": [
    {
     "name": "stdout",
     "output_type": "stream",
     "text": [
      "WARNING:tensorflow:From /home/liuzhiyang/.conda/envs/jupyter/lib/python3.6/site-packages/tensorflow/python/framework/op_def_library.py:263: colocate_with (from tensorflow.python.framework.ops) is deprecated and will be removed in a future version.\n",
      "Instructions for updating:\n",
      "Colocations handled automatically by placer.\n",
      "WARNING:tensorflow:From /home/liuzhiyang/.conda/envs/jupyter/lib/python3.6/site-packages/tensorflow/python/ops/math_ops.py:3066: to_int32 (from tensorflow.python.ops.math_ops) is deprecated and will be removed in a future version.\n",
      "Instructions for updating:\n",
      "Use tf.cast instead.\n"
     ]
    }
   ],
   "source": [
    "# prepare for linear regression\n",
    "\n",
    "# parameters\n",
    "train_epochs = 2000\n",
    "display_step = 50\n",
    "\n",
    "# set tensorflow graph\n",
    "X = tf.placeholder(tf.float32, name=\"input\")\n",
    "Y = tf.placeholder(tf.float32, name=\"output\")\n",
    "W = tf.Variable(np.random.randn(), name=\"weight\")\n",
    "b = tf.Variable(np.random.randn(), name=\"bias\")\n",
    "\n",
    "# construct a model\n",
    "Y_ = tf.add(tf.multiply(X, W), b)\n",
    "\n",
    "# define loss function and optimizer\n",
    "learning_rate = 0.01\n",
    "loss = tf.reduce_mean(tf.pow(Y_ - Y, 2))\n",
    "# loss = tf.sqrt(tf.reduce_sum(tf.pow(activation-Y, 2)))\n",
    "optimizer = tf.train.GradientDescentOptimizer(learning_rate).minimize(loss)\n",
    "\n",
    "\"\"\"\n",
    " tf.reduce_sum()\n",
    " tf.reduce_mean()\n",
    " _____\n",
    "\n",
    " tf.pow(Yhat, Y, 2)\n",
    " tf.nn.softmax_cross_entropy_with_logits(Yhat, Y)\n",
    " _____\n",
    "\n",
    " tf.train.GradientDescentOptimizer(0.05).minimize(cost)\n",
    " tf.train.RMSPropOptimizer(0.001, 0.9).minimize(cost)\n",
    "\"\"\"\n",
    "\n",
    "# initializer\n",
    "init = tf.global_variables_initializer()"
   ]
  },
  {
   "cell_type": "code",
   "execution_count": 4,
   "metadata": {},
   "outputs": [
    {
     "name": "stdout",
     "output_type": "stream",
     "text": [
      "Epoch: 0001  cost= 0.21532  W is: -0.69644 b is: -0.17153\n",
      "Epoch: 0051  cost= 0.01696  W is: 0.16558 b is: -0.79544\n",
      "Epoch: 0101  cost= 0.00264  W is: 0.50466 b is: -0.92803\n",
      "Epoch: 0151  cost= 0.00083  W is: 0.62471 b is: -0.97497\n",
      "Epoch: 0201  cost= 0.00060  W is: 0.66721 b is: -0.99159\n",
      "Epoch: 0251  cost= 0.00057  W is: 0.68226 b is: -0.99748\n",
      "Epoch: 0301  cost= 0.00057  W is: 0.68759 b is: -0.99956\n",
      "Epoch: 0351  cost= 0.00056  W is: 0.68947 b is: -1.00030\n",
      "Epoch: 0401  cost= 0.00056  W is: 0.69014 b is: -1.00056\n",
      "Epoch: 0451  cost= 0.00056  W is: 0.69038 b is: -1.00065\n",
      "Epoch: 0501  cost= 0.00056  W is: 0.69046 b is: -1.00068\n",
      "Epoch: 0551  cost= 0.00056  W is: 0.69049 b is: -1.00069\n",
      "Epoch: 0601  cost= 0.00056  W is: 0.69050 b is: -1.00070\n",
      "Epoch: 0651  cost= 0.00056  W is: 0.69050 b is: -1.00070\n",
      "Epoch: 0701  cost= 0.00056  W is: 0.69050 b is: -1.00070\n",
      "Epoch: 0751  cost= 0.00056  W is: 0.69050 b is: -1.00070\n",
      "Epoch: 0801  cost= 0.00056  W is: 0.69050 b is: -1.00070\n",
      "Epoch: 0851  cost= 0.00056  W is: 0.69050 b is: -1.00070\n",
      "Epoch: 0901  cost= 0.00056  W is: 0.69050 b is: -1.00070\n",
      "Epoch: 0951  cost= 0.00056  W is: 0.69050 b is: -1.00070\n",
      "Epoch: 1001  cost= 0.00056  W is: 0.69050 b is: -1.00070\n",
      "Epoch: 1051  cost= 0.00056  W is: 0.69050 b is: -1.00070\n",
      "Epoch: 1101  cost= 0.00056  W is: 0.69050 b is: -1.00070\n",
      "Epoch: 1151  cost= 0.00056  W is: 0.69050 b is: -1.00070\n",
      "Epoch: 1201  cost= 0.00056  W is: 0.69050 b is: -1.00070\n",
      "Epoch: 1251  cost= 0.00056  W is: 0.69050 b is: -1.00070\n",
      "Epoch: 1301  cost= 0.00056  W is: 0.69050 b is: -1.00070\n",
      "Epoch: 1351  cost= 0.00056  W is: 0.69050 b is: -1.00070\n",
      "Epoch: 1401  cost= 0.00056  W is: 0.69050 b is: -1.00070\n",
      "Epoch: 1451  cost= 0.00056  W is: 0.69050 b is: -1.00070\n",
      "Epoch: 1501  cost= 0.00056  W is: 0.69050 b is: -1.00070\n",
      "Epoch: 1551  cost= 0.00056  W is: 0.69050 b is: -1.00070\n",
      "Epoch: 1601  cost= 0.00056  W is: 0.69050 b is: -1.00070\n",
      "Epoch: 1651  cost= 0.00056  W is: 0.69050 b is: -1.00070\n",
      "Epoch: 1701  cost= 0.00056  W is: 0.69050 b is: -1.00070\n",
      "Epoch: 1751  cost= 0.00056  W is: 0.69050 b is: -1.00070\n",
      "Epoch: 1801  cost= 0.00056  W is: 0.69050 b is: -1.00070\n",
      "Epoch: 1851  cost= 0.00056  W is: 0.69050 b is: -1.00070\n",
      "Epoch: 1901  cost= 0.00056  W is: 0.69050 b is: -1.00070\n",
      "Epoch: 1951  cost= 0.00056  W is: 0.69050 b is: -1.00070\n"
     ]
    }
   ],
   "source": [
    "# run\n",
    "sess = tf.Session()\n",
    "# initialze\n",
    "sess.run(init)\n",
    "for epoch in range(train_epochs):\n",
    "    for (x, y) in zip(train_X[0, :], train_Y[0, :]):\n",
    "        sess.run(optimizer, feed_dict={X:x, Y:y})\n",
    "    \n",
    "    # checkout\n",
    "    if epoch % display_step == 0:\n",
    "        costval = sess.run(loss, feed_dict={X: train_X, Y:train_Y})\n",
    "        print (\"Epoch: %04d\" %(epoch + 1), \" cost= %.5f\" %(costval), \n",
    "               \" W is: %.5f\" %(sess.run(W)), \"b is: %.5f\" %(sess.run(b)))\n",
    "\n",
    "# Final W and b\n",
    "Wopt = sess.run(W)\n",
    "bopt = sess.run(b)\n",
    "Yopt = f(train_X, Wopt, bopt)"
   ]
  },
  {
   "cell_type": "code",
   "execution_count": 5,
   "metadata": {},
   "outputs": [
    {
     "data": {
      "text/plain": [
       "<matplotlib.legend.Legend at 0x7f780c127828>"
      ]
     },
     "execution_count": 5,
     "metadata": {},
     "output_type": "execute_result"
    },
    {
     "data": {
      "image/png": "[encoded data removed]",
      "text/plain": [
       "<Figure size 432x288 with 1 Axes>"
      ]
     },
     "metadata": {},
     "output_type": "display_data"
    }
   ],
   "source": [
    "# plot result\n",
    "plt.figure(2)\n",
    "plt.plot(train_X[0, :], ref_Y[0, :], 'ro', label='Original data')  # 原始数据\n",
    "plt.plot(train_X[0, :], train_Y[0, :], 'bo', label='Training data') # 加入高斯噪声后的数据\n",
    "plt.plot(train_X[0, :], Yopt[0, :], 'k-', label='Fitted Line')  # 拟合的直线\n",
    "plt.axis('equal')\n",
    "plt.legend(loc='lower right')"
   ]
  },
  {
   "cell_type": "code",
   "execution_count": 6,
   "metadata": {},
   "outputs": [],
   "source": [
    "sess.close()"
   ]
  }
 ],
 "metadata": {
  "kernelspec": {
   "display_name": "Python [conda env:jupyter]",
   "language": "python",
   "name": "conda-env-jupyter-py"
  },
  "language_info": {
   "codemirror_mode": {
    "name": "ipython",
    "version": 3
   },
   "file_extension": ".py",
   "mimetype": "text/x-python",
   "name": "python",
   "nbconvert_exporter": "python",
   "pygments_lexer": "ipython3",
   "version": "3.6.2"
  },
  "toc": {
   "base_numbering": 1,
   "nav_menu": {},
   "number_sections": true,
   "sideBar": true,
   "skip_h1_title": false,
   "title_cell": "Table of Contents",
   "title_sidebar": "Contents",
   "toc_cell": false,
   "toc_position": {},
   "toc_section_display": true,
   "toc_window_display": false
  }
 },
 "nbformat": 4,
 "nbformat_minor": 2
}
